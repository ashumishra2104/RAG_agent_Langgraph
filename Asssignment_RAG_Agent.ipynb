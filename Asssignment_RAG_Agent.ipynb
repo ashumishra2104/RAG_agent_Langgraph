{
 "cells": [
  {
   "cell_type": "markdown",
   "metadata": {},
   "source": [
    "## Assignment \n",
    "\n",
    "Assignment:4\n",
    "1. you have to create one supervisor node.\n",
    "2. create one router function\n",
    "3. create three more node\n",
    "3.1 llm call (llm node)\n",
    "3.2 RAG (rag node)\n",
    "3.3 web crawler(fetch the info in realtime from internet)\n",
    "4. created one more node after this for validation for generated output --> explore the validation part how to do that\n",
    "5. if validation going to be failed in that case again go to supervioser node and then supervisor node will again decide what needs to be call next\n",
    "6. once the validation will pass then only generate the final output\n",
    "\n",
    "submission deadline till 9pm friday\n",
    "\n",
    "submission instruction:\n",
    "create your github repo and keep all the assisgnments over there(in that github repo)\n",
    "i will share one googleform in group after completing your assignment you can share the github link through that google form. "
   ]
  },
  {
   "cell_type": "code",
   "execution_count": 493,
   "metadata": {},
   "outputs": [
    {
     "name": "stdout",
     "output_type": "stream",
     "text": [
      "Hell0\n"
     ]
    }
   ],
   "source": [
    "print(\"Hell0\")"
   ]
  },
  {
   "cell_type": "code",
   "execution_count": 494,
   "metadata": {},
   "outputs": [
    {
     "name": "stdout",
     "output_type": "stream",
     "text": [
      "In Vrindavan, the term \"Goswami\" holds immense spiritual and historical significance, primarily within the **Gaudiya Vaishnava tradition**. It refers to a lineage of highly revered spiritual masters, scholars, and devotees who played a pivotal role in establishing and propagating the worship of Radha and Krishna, particularly as envisioned by Sri Chaitanya Mahaprabhu.\n",
      "\n",
      "Here's a breakdown of who the Goswamis are in Vrindavan:\n",
      "\n",
      "1.  **The Original Six Goswamis of Vrindavan (Shad Goswami):**\n",
      "    These are the most important and foundational Goswamis. They were direct disciples of Sri Chaitanya Mahaprabhu (1486–1534 AD) and were sent by him to Vrindavan in the 16th century with a specific mission. Their contributions are the bedrock of Gaudiya Vaishnavism:\n",
      "    *   **Their Mission:**\n",
      "        *   **Rediscover Lost Holy Sites:** They located many of the places where Krishna performed his pastimes 5,000 years ago.\n",
      "        *   **Establish Temples:** They were instrumental in establishing the first major temples in Vrindavan, such as Govind Dev, Madan Mohan, Gopinath, Radha Raman, and Radha Damodar.\n",
      "        *   **Write Foundational Scriptures:** They authored hundreds of volumes of philosophical, devotional, and theological works that codified the Gaudiya Vaishnava philosophy, practices of *bhakti-yoga*, and the understanding of Radha-Krishna *lila* (divine pastimes).\n",
      "        *   **Spread the Bhakti Movement:** They systematized the teachings of Chaitanya Mahaprabhu and spread the *bhakti* (devotional) movement throughout India.\n",
      "\n",
      "    *   **The Six Names:**\n",
      "        1.  **Rupa Goswami:** Known as the \"Bhakti-rasacharya\" (expert in devotional mellows), he wrote extensively on the philosophy of *bhakti*, including \"Bhakti-rasamrita-sindhu\" and \"Ujjvala Nilamani.\"\n",
      "        2.  **Sanatana Goswami:** The elder brother of Rupa Goswami, known for his deep scholarship and practical guidance. He wrote \"Hari-bhakti-vilasa\" (a guide to Vaishnava practices) and \"Brihat-Bhagavatamrita.\"\n",
      "        3.  **Raghunatha Dasa Goswami:** Known for his extreme renunciation and intense devotion, particularly to Radharani. He wrote \"Vilapa Kusumanjali.\"\n",
      "        4.  **Raghunatha Bhatta Goswami:** Known for his beautiful recitation of the Srimad Bhagavatam and his humble nature.\n",
      "        5.  **Gopala Bhatta Goswami:** Known for establishing the Radha Raman Temple and deity, and contributing to \"Hari-bhakti-vilasa.\"\n",
      "        6.  **Jiva Goswami:** The nephew of Rupa and Sanatana, considered the most prolific scholar among them. He wrote the \"Sat Sandarbhas,\" a monumental philosophical exposition of Gaudiya Vaishnavism.\n",
      "\n",
      "2.  **Modern Goswamis (Descendants and Temple Caretakers):**\n",
      "    Today, the term \"Goswami\" in Vrindavan also refers to the descendants of these original Goswamis or their close associates/disciples, and those who have traditionally served and maintained the temples established by them.\n",
      "\n",
      "    *   **Role Today:**\n",
      "        *   **Temple Priests & Administrators:** Many Goswami families are the hereditary *sevaks* (servants) of the major temples in Vrindavan (e.g., Radha Raman, Radha Damodar, Radha Gopinath, Govind Dev). They perform the daily *seva* (worship and service) to the deities, manage temple affairs, and preserve the traditions.\n",
      "        *   **Spiritual Guides:** They often serve as spiritual teachers, performing *pujas* (rituals), giving discourses, and guiding pilgrims and devotees.\n",
      "        *   **Custodians of Tradition:** They are the living link to the rich history and spiritual heritage of Vrindavan, preserving the philosophical teachings, cultural practices, and devotional spirit.\n",
      "        *   **Scholars & Authors:** Many continue the legacy of scholarship, studying and interpreting the scriptures written by their ancestors.\n",
      "\n",
      "In essence, the Goswamis of Vrindavan represent an unbroken lineage of spiritual authority, devotion, and scholarship that has preserved and propagated the unique spiritual essence of Vrindavan for centuries. They are central to the religious and cultural fabric of the holy town.\n"
     ]
    }
   ],
   "source": [
    "import os\n",
    "from dotenv import load_dotenv\n",
    "load_dotenv()\n",
    "os.environ[\"GOOGLE_API_KEY\"] = os.getenv(\"GOOGLE_API_KEY\")\n",
    "from langchain_google_genai import ChatGoogleGenerativeAI\n",
    "model=ChatGoogleGenerativeAI(model='gemini-2.5-flash-preview-05-20')\n",
    "output=model.invoke(\"who are goswami in vrindavan\")\n",
    "print(output.content)"
   ]
  },
  {
   "cell_type": "code",
   "execution_count": 495,
   "metadata": {},
   "outputs": [
    {
     "data": {
      "text/plain": [
       "384"
      ]
     },
     "execution_count": 495,
     "metadata": {},
     "output_type": "execute_result"
    }
   ],
   "source": [
    "from langchain_huggingface import HuggingFaceEmbeddings\n",
    "embeddings = HuggingFaceEmbeddings(model_name=\"BAAI/bge-small-en\")\n",
    "len(embeddings.embed_query(\"hi\"))"
   ]
  },
  {
   "cell_type": "markdown",
   "metadata": {},
   "source": [
    "## Loading the text file and storing in VDB"
   ]
  },
  {
   "cell_type": "code",
   "execution_count": 496,
   "metadata": {},
   "outputs": [],
   "source": [
    "from langchain_community.document_loaders import TextLoader,DirectoryLoader\n",
    "from langchain_community.vectorstores import Chroma\n",
    "from langchain.text_splitter import RecursiveCharacterTextSplitter"
   ]
  },
  {
   "cell_type": "code",
   "execution_count": 497,
   "metadata": {},
   "outputs": [],
   "source": [
    "loader=DirectoryLoader(\"./data2\",glob=\"./*.txt\",loader_cls=TextLoader)"
   ]
  },
  {
   "cell_type": "code",
   "execution_count": 498,
   "metadata": {},
   "outputs": [],
   "source": [
    "docs=loader.load()"
   ]
  },
  {
   "cell_type": "code",
   "execution_count": 499,
   "metadata": {},
   "outputs": [
    {
     "data": {
      "text/plain": [
       "[Document(metadata={'source': 'data2/usa.txt'}, page_content=\"🇺🇸 Overview of the U.S. Economy\\nThe United States of America possesses the largest economy in the world in terms of nominal GDP, making it the most powerful economic force globally. It operates under a capitalist mixed economy, where the private sector dominates, but the government plays a significant regulatory and fiscal role. With a population of over 335 million people and a high level of technological advancement, the U.S. economy thrives on a foundation of consumer spending, innovation, global trade, and financial services. It has a highly diversified structure with strong sectors in technology, healthcare, finance, real estate, defense, and agriculture.\\n\\nU.S. GDP – Size, Composition, and Global Share\\nAs of 2024, the United States’ nominal GDP is estimated to be around $28 trillion USD, accounting for approximately 25% of the global economy. It ranks #1 in the world by nominal GDP, far ahead of China (which ranks 2nd). The U.S. GDP per capita is also among the highest, hovering around $83,000, which indicates a high standard of living and productivity. In terms of Purchasing Power Parity (PPP), the U.S. ranks second, but nominal GDP is considered more reflective of actual economic size and financial influence.\\n\\nThe GDP is predominantly driven by the services sector, which contributes more than 77% to the total GDP. This includes industries such as finance, insurance, real estate, healthcare, education, and information technology. The industrial sector (manufacturing, construction, mining) makes up around 19%, while agriculture, although technologically advanced and export-oriented, contributes only about 1%. Despite its small share in GDP, U.S. agriculture is globally significant in terms of productivity and exports.\\n\\nGDP Growth Trends and Dynamics\\nHistorically, the U.S. economy has enjoyed consistent long-term growth, averaging around 2-3% annually. Post-pandemic, the economy bounced back strongly, but 2022 and 2023 saw rising inflation due to supply chain issues and stimulus-driven demand. In 2024, the U.S. GDP grew at a modest pace of around 2.1%, as the Federal Reserve’s interest rate hikes aimed at controlling inflation also moderated economic expansion. Consumer spending, which makes up nearly 70% of GDP, remains a dominant force in economic stability.\\n\\nThe U.S. maintains its GDP growth through strong innovation, entrepreneurship, and investment in R&D. With companies like Apple, Google, Amazon, Microsoft, and Tesla leading global markets, the U.S. consistently produces high value across sectors, especially in technology and advanced services. Additionally, the economy benefits from intellectual property exports, financial services, and higher education, all of which contribute significantly to GDP through both domestic and international markets.\\n\\nRole in the Global Economy\\nThe U.S. Dollar (USD) is the global reserve currency, held by over 60% of the world’s central bank reserves. This gives the U.S. an enormous advantage in global trade and borrowing. The U.S. is a key member of international institutions like the World Bank, IMF, G7, G20, and WTO, and plays a central role in setting global economic policy.\\n\\nAs a global innovation hub, the U.S. attracts billions in foreign investment and hosts many of the world's largest and most valuable companies. Its exports include high-tech machinery, aircraft, pharmaceuticals, semiconductors, and financial services, while its imports cover consumer goods, electronics, automobiles, and industrial materials. The trade deficit remains large (around $900 billion in 2024), primarily because the U.S. consumes more than it exports, but its ability to finance this through capital inflows and reserve currency status sustains balance.\\n\\nKey Economic Strengths\\nThe core strength of the U.S. economy lies in its flexible labor market, deep capital markets, technological superiority, and legal system that encourages innovation and property rights. It has a large, highly educated workforce, a diverse immigration pipeline, and access to vast natural resources including oil, gas, coal, and farmland. The presence of top-tier universities and research institutions fuels the knowledge economy, with billions spent annually on R&D—over $700 billion USD, more than any other country.\\n\\nThe U.S. leads in many critical sectors, including software, biotechnology, aerospace, defense, financial services, and media. Its startup ecosystem, especially in Silicon Valley, produces unicorns and tech giants at a scale unmatched globally. Its financial markets—particularly Wall Street—are the most liquid and globally integrated in the world.\\n\\nChallenges and Structural Issues\\nDespite its strength, the U.S. economy faces several serious long-term issues. The national debt has surpassed $34 trillion USD, raising concerns about fiscal sustainability, especially as interest payments alone are growing rapidly. The income and wealth inequality gap has widened, with a small percentage of Americans owning a disproportionate share of wealth. Access to affordable healthcare, housing shortages, and a declining labor force participation in some sectors are additional structural issues.\\n\\nAnother growing concern is political polarization, which often stalls crucial economic reforms and budget agreements, as seen in recurrent debt ceiling crises. The U.S. also faces challenges from global competition, especially from China in areas like AI, semiconductors, and green technology. Moreover, climate change, cybersecurity threats, and geopolitical risks (like Ukraine and Taiwan conflicts) add layers of vulnerability to economic planning.\\n\\nFuture Outlook (2025–2030)\\nLooking forward, the U.S. economy is expected to grow at a moderate pace, powered by innovation in AI, green energy, robotics, biotech, and quantum computing. The Biden administration’s Inflation Reduction Act and CHIPS Act are pumping massive investments into semiconductors, clean energy, and infrastructure. There is a strong push for reshoring of manufacturing, especially in critical sectors like chips, pharmaceuticals, and batteries.\\n\\nHowever, economic leadership will depend on managing the national debt, reforming entitlement programs, upgrading infrastructure, and ensuring the next generation is equipped with digital-age skills. If the U.S. can handle these challenges, it is well-positioned to remain a global economic powerhouse through 2030 and beyond.\\n\\nFinal Summary\\nThe U.S. economy remains the engine of global growth, backed by unmatched innovation, financial dominance, and a strong institutional framework. Its $28 trillion GDP and influence over global finance, trade, and technology make it the centerpiece of the modern economic system. Yet, rising debt, inequality, political gridlock, and competition from emerging powers demand careful policy navigation. If successfully addressed, the U.S. will continue to dominate the global economy well into the future.\\n\\nAbsolutely! Here's a **simple, expanded version** of the U.S. economy overview that includes some **history**, explains **capitalism**, and touches on how the U.S. grew into the world’s largest economy. It’s written in clear and easy-to-understand language:\\n\\n---\\n\\n## 🇺🇸 Simple and Complete Overview of the U.S. Economy\\n\\n### 🌍 What is the U.S. Economy?\\n\\nThe United States has the **largest economy in the world**. This means it produces and earns more money (GDP) than any other country. It is a very rich and powerful nation with strong businesses, banks, and technology companies. People in the U.S. work in many industries, including healthcare, education, real estate, finance, farming, and especially **technology** (like Apple, Google, and Microsoft).\\n\\n---\\n\\n## 🕰️ A Quick Look at U.S. Economic History\\n\\n### 🏛️ Birth of the Nation\\n\\n* The U.S. was born in **1776** after the **American Revolutionary War** against British rule.\\n* The country was led by **George Washington**, the **first president** of the United States.\\n* From the very beginning, America followed ideas like **freedom**, **free enterprise**, and **democracy**.\\n\\n### ⚙️ Growth Over Time\\n\\n* During the **1800s**, America expanded westward, built railroads, and grew its farming and industrial base.\\n* In the **1900s**, it became a leader in manufacturing, cars (Ford), steel, and war supplies during World War I and II.\\n* After **World War II**, the U.S. economy exploded in growth and became the **world’s strongest**.\\n* The rise of **computers, the internet, and global trade** in the late 20th century made the U.S. a technology leader.\\n\\n---\\n\\n## 💰 What is Capitalism?\\n\\n* **Capitalism** is a system where businesses are owned by people (not the government), and they compete freely.\\n* People can **start their own businesses**, **sell products**, and **make a profit**.\\n* The U.S. is a **capitalist country**, but it also has some government programs (like schools, roads, and healthcare support), so it is called a **mixed economy**.\\n\\n---\\n\\n## 📊 How Big is the U.S. Economy?\\n\\n* As of **2024**, the U.S. economy is worth about **\\\\$28 trillion**.\\n* That’s about **25% of the world’s total economic activity**!\\n* **GDP per person** is around **\\\\$83,000**, showing most Americans have a high standard of living.\\n\\n---\\n\\n## 🏢 What Drives the U.S. Economy?\\n\\nThe U.S. economy is powered by:\\n\\n1. **Consumer spending** – People buying goods and services (about 70% of GDP)\\n2. **Innovation** – Inventions, new ideas, and technology\\n3. **Global trade** – Selling goods and services to other countries\\n4. **Financial services** – Banks, stock markets, and investment\\n\\n### Top Sectors:\\n\\n* **Technology**: Apple, Google, Microsoft\\n* **Healthcare**\\n* **Finance and Banking**\\n* **Real estate**\\n* **Education**\\n* **Agriculture and food exports**\\n\\n---\\n\\n## 🌎 The U.S. and the World\\n\\n* The **U.S. Dollar** is the world’s main currency used in trade and reserves.\\n* It is the leader in global organizations like the **IMF**, **World Bank**, **G7**, and **WTO**.\\n* The U.S. exports high-value items like airplanes, software, medicine, and services.\\n* It imports goods like clothes, electronics, and cars.\\n\\nEven though it **buys more than it sells** (trade deficit), other countries invest in the U.S., which keeps the balance stable.\\n\\n---\\n\\n## 🚀 Why Is the U.S. So Economically Powerful?\\n\\nHere’s what makes the U.S. economy strong:\\n\\n* 🧠 **Innovation**: Home to the most creative companies in the world\\n* 🏫 **Top universities**: Like MIT, Stanford, and Harvard\\n* 💵 **Biggest stock markets**: Wall Street is the center of global finance\\n* 🤝 **Freedom to start businesses**: Encourages entrepreneurs and startups\\n* 🌍 **Immigration**: Skilled people from all over the world come to the U.S.\\n* ⚖️ **Strong legal system**: Protects ownership, contracts, and innovation\\n\\n---\\n\\n## ⚠️ Challenges the U.S. Economy Faces\\n\\nEven a strong economy has problems. The U.S. is facing:\\n\\n* **High national debt** – Over \\\\$34 trillion and growing fast\\n* **Wealth inequality** – Some people are very rich, while others struggle\\n* **Healthcare costs** – Medical care is very expensive\\n* **Housing shortages** – Not enough affordable homes in big cities\\n* **Political fights** – Government often gets stuck in arguments and delays decisions\\n* **Competition from China** – In areas like AI, semiconductors, and green tech\\n* **Climate change and cybersecurity threats**\\n\\n---\\n\\n## 🔮 The Future: 2025 and Beyond\\n\\nThe future of the U.S. economy looks **promising but challenging**.\\n\\n### Areas of Growth:\\n\\n* 🌱 **Green energy and clean tech**: Solar, wind, and EVs\\n* 🤖 **Artificial intelligence and robotics**\\n* 🧬 **Biotech and healthcare innovation**\\n* 🛰️ **Advanced manufacturing and semiconductors**\\n* 🧪 **Quantum computing and next-gen research**\\n\\nThe government is supporting growth with new laws like:\\n\\n* **The Inflation Reduction Act** – for clean energy and climate investment\\n* **The CHIPS Act** – to boost chip manufacturing in the U.S.\\n\\n---\\n\\n## 🧾 Final Summary (In Simple Words)\\n\\n* The U.S. is the **richest country** in the world.\\n* It grew by focusing on **freedom, innovation, and hard work**.\\n* It makes money through **technology, services, trade**, and **consumer spending**.\\n* The economy is **very powerful**, but it also has big problems like debt, inequality, and global competition.\\n* If the U.S. invests wisely and plans well, it can **stay strong and lead the world** for many more years.\\n\\n---\\n\\n\")]"
      ]
     },
     "execution_count": 499,
     "metadata": {},
     "output_type": "execute_result"
    }
   ],
   "source": [
    "docs"
   ]
  },
  {
   "cell_type": "code",
   "execution_count": 500,
   "metadata": {},
   "outputs": [
    {
     "data": {
      "text/plain": [
       "\"🇺🇸 Overview of the U.S. Economy\\nThe United States of America possesses the largest economy in the world in terms of nominal GDP, making it the most powerful economic force globally. It operates under a capitalist mixed economy, where the private sector dominates, but the government plays a significant regulatory and fiscal role. With a population of over 335 million people and a high level of technological advancement, the U.S. economy thrives on a foundation of consumer spending, innovation, global trade, and financial services. It has a highly diversified structure with strong sectors in technology, healthcare, finance, real estate, defense, and agriculture.\\n\\nU.S. GDP – Size, Composition, and Global Share\\nAs of 2024, the United States’ nominal GDP is estimated to be around $28 trillion USD, accounting for approximately 25% of the global economy. It ranks #1 in the world by nominal GDP, far ahead of China (which ranks 2nd). The U.S. GDP per capita is also among the highest, hovering around $83,000, which indicates a high standard of living and productivity. In terms of Purchasing Power Parity (PPP), the U.S. ranks second, but nominal GDP is considered more reflective of actual economic size and financial influence.\\n\\nThe GDP is predominantly driven by the services sector, which contributes more than 77% to the total GDP. This includes industries such as finance, insurance, real estate, healthcare, education, and information technology. The industrial sector (manufacturing, construction, mining) makes up around 19%, while agriculture, although technologically advanced and export-oriented, contributes only about 1%. Despite its small share in GDP, U.S. agriculture is globally significant in terms of productivity and exports.\\n\\nGDP Growth Trends and Dynamics\\nHistorically, the U.S. economy has enjoyed consistent long-term growth, averaging around 2-3% annually. Post-pandemic, the economy bounced back strongly, but 2022 and 2023 saw rising inflation due to supply chain issues and stimulus-driven demand. In 2024, the U.S. GDP grew at a modest pace of around 2.1%, as the Federal Reserve’s interest rate hikes aimed at controlling inflation also moderated economic expansion. Consumer spending, which makes up nearly 70% of GDP, remains a dominant force in economic stability.\\n\\nThe U.S. maintains its GDP growth through strong innovation, entrepreneurship, and investment in R&D. With companies like Apple, Google, Amazon, Microsoft, and Tesla leading global markets, the U.S. consistently produces high value across sectors, especially in technology and advanced services. Additionally, the economy benefits from intellectual property exports, financial services, and higher education, all of which contribute significantly to GDP through both domestic and international markets.\\n\\nRole in the Global Economy\\nThe U.S. Dollar (USD) is the global reserve currency, held by over 60% of the world’s central bank reserves. This gives the U.S. an enormous advantage in global trade and borrowing. The U.S. is a key member of international institutions like the World Bank, IMF, G7, G20, and WTO, and plays a central role in setting global economic policy.\\n\\nAs a global innovation hub, the U.S. attracts billions in foreign investment and hosts many of the world's largest and most valuable companies. Its exports include high-tech machinery, aircraft, pharmaceuticals, semiconductors, and financial services, while its imports cover consumer goods, electronics, automobiles, and industrial materials. The trade deficit remains large (around $900 billion in 2024), primarily because the U.S. consumes more than it exports, but its ability to finance this through capital inflows and reserve currency status sustains balance.\\n\\nKey Economic Strengths\\nThe core strength of the U.S. economy lies in its flexible labor market, deep capital markets, technological superiority, and legal system that encourages innovation and property rights. It has a large, highly educated workforce, a diverse immigration pipeline, and access to vast natural resources including oil, gas, coal, and farmland. The presence of top-tier universities and research institutions fuels the knowledge economy, with billions spent annually on R&D—over $700 billion USD, more than any other country.\\n\\nThe U.S. leads in many critical sectors, including software, biotechnology, aerospace, defense, financial services, and media. Its startup ecosystem, especially in Silicon Valley, produces unicorns and tech giants at a scale unmatched globally. Its financial markets—particularly Wall Street—are the most liquid and globally integrated in the world.\\n\\nChallenges and Structural Issues\\nDespite its strength, the U.S. economy faces several serious long-term issues. The national debt has surpassed $34 trillion USD, raising concerns about fiscal sustainability, especially as interest payments alone are growing rapidly. The income and wealth inequality gap has widened, with a small percentage of Americans owning a disproportionate share of wealth. Access to affordable healthcare, housing shortages, and a declining labor force participation in some sectors are additional structural issues.\\n\\nAnother growing concern is political polarization, which often stalls crucial economic reforms and budget agreements, as seen in recurrent debt ceiling crises. The U.S. also faces challenges from global competition, especially from China in areas like AI, semiconductors, and green technology. Moreover, climate change, cybersecurity threats, and geopolitical risks (like Ukraine and Taiwan conflicts) add layers of vulnerability to economic planning.\\n\\nFuture Outlook (2025–2030)\\nLooking forward, the U.S. economy is expected to grow at a moderate pace, powered by innovation in AI, green energy, robotics, biotech, and quantum computing. The Biden administration’s Inflation Reduction Act and CHIPS Act are pumping massive investments into semiconductors, clean energy, and infrastructure. There is a strong push for reshoring of manufacturing, especially in critical sectors like chips, pharmaceuticals, and batteries.\\n\\nHowever, economic leadership will depend on managing the national debt, reforming entitlement programs, upgrading infrastructure, and ensuring the next generation is equipped with digital-age skills. If the U.S. can handle these challenges, it is well-positioned to remain a global economic powerhouse through 2030 and beyond.\\n\\nFinal Summary\\nThe U.S. economy remains the engine of global growth, backed by unmatched innovation, financial dominance, and a strong institutional framework. Its $28 trillion GDP and influence over global finance, trade, and technology make it the centerpiece of the modern economic system. Yet, rising debt, inequality, political gridlock, and competition from emerging powers demand careful policy navigation. If successfully addressed, the U.S. will continue to dominate the global economy well into the future.\\n\\nAbsolutely! Here's a **simple, expanded version** of the U.S. economy overview that includes some **history**, explains **capitalism**, and touches on how the U.S. grew into the world’s largest economy. It’s written in clear and easy-to-understand language:\\n\\n---\\n\\n## 🇺🇸 Simple and Complete Overview of the U.S. Economy\\n\\n### 🌍 What is the U.S. Economy?\\n\\nThe United States has the **largest economy in the world**. This means it produces and earns more money (GDP) than any other country. It is a very rich and powerful nation with strong businesses, banks, and technology companies. People in the U.S. work in many industries, including healthcare, education, real estate, finance, farming, and especially **technology** (like Apple, Google, and Microsoft).\\n\\n---\\n\\n## 🕰️ A Quick Look at U.S. Economic History\\n\\n### 🏛️ Birth of the Nation\\n\\n* The U.S. was born in **1776** after the **American Revolutionary War** against British rule.\\n* The country was led by **George Washington**, the **first president** of the United States.\\n* From the very beginning, America followed ideas like **freedom**, **free enterprise**, and **democracy**.\\n\\n### ⚙️ Growth Over Time\\n\\n* During the **1800s**, America expanded westward, built railroads, and grew its farming and industrial base.\\n* In the **1900s**, it became a leader in manufacturing, cars (Ford), steel, and war supplies during World War I and II.\\n* After **World War II**, the U.S. economy exploded in growth and became the **world’s strongest**.\\n* The rise of **computers, the internet, and global trade** in the late 20th century made the U.S. a technology leader.\\n\\n---\\n\\n## 💰 What is Capitalism?\\n\\n* **Capitalism** is a system where businesses are owned by people (not the government), and they compete freely.\\n* People can **start their own businesses**, **sell products**, and **make a profit**.\\n* The U.S. is a **capitalist country**, but it also has some government programs (like schools, roads, and healthcare support), so it is called a **mixed economy**.\\n\\n---\\n\\n## 📊 How Big is the U.S. Economy?\\n\\n* As of **2024**, the U.S. economy is worth about **\\\\$28 trillion**.\\n* That’s about **25% of the world’s total economic activity**!\\n* **GDP per person** is around **\\\\$83,000**, showing most Americans have a high standard of living.\\n\\n---\\n\\n## 🏢 What Drives the U.S. Economy?\\n\\nThe U.S. economy is powered by:\\n\\n1. **Consumer spending** – People buying goods and services (about 70% of GDP)\\n2. **Innovation** – Inventions, new ideas, and technology\\n3. **Global trade** – Selling goods and services to other countries\\n4. **Financial services** – Banks, stock markets, and investment\\n\\n### Top Sectors:\\n\\n* **Technology**: Apple, Google, Microsoft\\n* **Healthcare**\\n* **Finance and Banking**\\n* **Real estate**\\n* **Education**\\n* **Agriculture and food exports**\\n\\n---\\n\\n## 🌎 The U.S. and the World\\n\\n* The **U.S. Dollar** is the world’s main currency used in trade and reserves.\\n* It is the leader in global organizations like the **IMF**, **World Bank**, **G7**, and **WTO**.\\n* The U.S. exports high-value items like airplanes, software, medicine, and services.\\n* It imports goods like clothes, electronics, and cars.\\n\\nEven though it **buys more than it sells** (trade deficit), other countries invest in the U.S., which keeps the balance stable.\\n\\n---\\n\\n## 🚀 Why Is the U.S. So Economically Powerful?\\n\\nHere’s what makes the U.S. economy strong:\\n\\n* 🧠 **Innovation**: Home to the most creative companies in the world\\n* 🏫 **Top universities**: Like MIT, Stanford, and Harvard\\n* 💵 **Biggest stock markets**: Wall Street is the center of global finance\\n* 🤝 **Freedom to start businesses**: Encourages entrepreneurs and startups\\n* 🌍 **Immigration**: Skilled people from all over the world come to the U.S.\\n* ⚖️ **Strong legal system**: Protects ownership, contracts, and innovation\\n\\n---\\n\\n## ⚠️ Challenges the U.S. Economy Faces\\n\\nEven a strong economy has problems. The U.S. is facing:\\n\\n* **High national debt** – Over \\\\$34 trillion and growing fast\\n* **Wealth inequality** – Some people are very rich, while others struggle\\n* **Healthcare costs** – Medical care is very expensive\\n* **Housing shortages** – Not enough affordable homes in big cities\\n* **Political fights** – Government often gets stuck in arguments and delays decisions\\n* **Competition from China** – In areas like AI, semiconductors, and green tech\\n* **Climate change and cybersecurity threats**\\n\\n---\\n\\n## 🔮 The Future: 2025 and Beyond\\n\\nThe future of the U.S. economy looks **promising but challenging**.\\n\\n### Areas of Growth:\\n\\n* 🌱 **Green energy and clean tech**: Solar, wind, and EVs\\n* 🤖 **Artificial intelligence and robotics**\\n* 🧬 **Biotech and healthcare innovation**\\n* 🛰️ **Advanced manufacturing and semiconductors**\\n* 🧪 **Quantum computing and next-gen research**\\n\\nThe government is supporting growth with new laws like:\\n\\n* **The Inflation Reduction Act** – for clean energy and climate investment\\n* **The CHIPS Act** – to boost chip manufacturing in the U.S.\\n\\n---\\n\\n## 🧾 Final Summary (In Simple Words)\\n\\n* The U.S. is the **richest country** in the world.\\n* It grew by focusing on **freedom, innovation, and hard work**.\\n* It makes money through **technology, services, trade**, and **consumer spending**.\\n* The economy is **very powerful**, but it also has big problems like debt, inequality, and global competition.\\n* If the U.S. invests wisely and plans well, it can **stay strong and lead the world** for many more years.\\n\\n---\\n\\n\""
      ]
     },
     "execution_count": 500,
     "metadata": {},
     "output_type": "execute_result"
    }
   ],
   "source": [
    "docs[0].page_content"
   ]
  },
  {
   "cell_type": "code",
   "execution_count": 501,
   "metadata": {},
   "outputs": [],
   "source": [
    "text_splitter = RecursiveCharacterTextSplitter(\n",
    "    chunk_size = 1000,\n",
    "    chunk_overlap = 200\n",
    ")"
   ]
  },
  {
   "cell_type": "code",
   "execution_count": 502,
   "metadata": {},
   "outputs": [],
   "source": [
    "new_docs = text_splitter.split_documents(documents=docs)"
   ]
  },
  {
   "cell_type": "code",
   "execution_count": 503,
   "metadata": {},
   "outputs": [
    {
     "data": {
      "text/plain": [
       "[Document(metadata={'source': 'data2/usa.txt'}, page_content='🇺🇸 Overview of the U.S. Economy\\nThe United States of America possesses the largest economy in the world in terms of nominal GDP, making it the most powerful economic force globally. It operates under a capitalist mixed economy, where the private sector dominates, but the government plays a significant regulatory and fiscal role. With a population of over 335 million people and a high level of technological advancement, the U.S. economy thrives on a foundation of consumer spending, innovation, global trade, and financial services. It has a highly diversified structure with strong sectors in technology, healthcare, finance, real estate, defense, and agriculture.'),\n",
       " Document(metadata={'source': 'data2/usa.txt'}, page_content='U.S. GDP – Size, Composition, and Global Share\\nAs of 2024, the United States’ nominal GDP is estimated to be around $28 trillion USD, accounting for approximately 25% of the global economy. It ranks #1 in the world by nominal GDP, far ahead of China (which ranks 2nd). The U.S. GDP per capita is also among the highest, hovering around $83,000, which indicates a high standard of living and productivity. In terms of Purchasing Power Parity (PPP), the U.S. ranks second, but nominal GDP is considered more reflective of actual economic size and financial influence.'),\n",
       " Document(metadata={'source': 'data2/usa.txt'}, page_content='The GDP is predominantly driven by the services sector, which contributes more than 77% to the total GDP. This includes industries such as finance, insurance, real estate, healthcare, education, and information technology. The industrial sector (manufacturing, construction, mining) makes up around 19%, while agriculture, although technologically advanced and export-oriented, contributes only about 1%. Despite its small share in GDP, U.S. agriculture is globally significant in terms of productivity and exports.'),\n",
       " Document(metadata={'source': 'data2/usa.txt'}, page_content='GDP Growth Trends and Dynamics\\nHistorically, the U.S. economy has enjoyed consistent long-term growth, averaging around 2-3% annually. Post-pandemic, the economy bounced back strongly, but 2022 and 2023 saw rising inflation due to supply chain issues and stimulus-driven demand. In 2024, the U.S. GDP grew at a modest pace of around 2.1%, as the Federal Reserve’s interest rate hikes aimed at controlling inflation also moderated economic expansion. Consumer spending, which makes up nearly 70% of GDP, remains a dominant force in economic stability.'),\n",
       " Document(metadata={'source': 'data2/usa.txt'}, page_content='The U.S. maintains its GDP growth through strong innovation, entrepreneurship, and investment in R&D. With companies like Apple, Google, Amazon, Microsoft, and Tesla leading global markets, the U.S. consistently produces high value across sectors, especially in technology and advanced services. Additionally, the economy benefits from intellectual property exports, financial services, and higher education, all of which contribute significantly to GDP through both domestic and international markets.\\n\\nRole in the Global Economy\\nThe U.S. Dollar (USD) is the global reserve currency, held by over 60% of the world’s central bank reserves. This gives the U.S. an enormous advantage in global trade and borrowing. The U.S. is a key member of international institutions like the World Bank, IMF, G7, G20, and WTO, and plays a central role in setting global economic policy.'),\n",
       " Document(metadata={'source': 'data2/usa.txt'}, page_content=\"As a global innovation hub, the U.S. attracts billions in foreign investment and hosts many of the world's largest and most valuable companies. Its exports include high-tech machinery, aircraft, pharmaceuticals, semiconductors, and financial services, while its imports cover consumer goods, electronics, automobiles, and industrial materials. The trade deficit remains large (around $900 billion in 2024), primarily because the U.S. consumes more than it exports, but its ability to finance this through capital inflows and reserve currency status sustains balance.\"),\n",
       " Document(metadata={'source': 'data2/usa.txt'}, page_content='Key Economic Strengths\\nThe core strength of the U.S. economy lies in its flexible labor market, deep capital markets, technological superiority, and legal system that encourages innovation and property rights. It has a large, highly educated workforce, a diverse immigration pipeline, and access to vast natural resources including oil, gas, coal, and farmland. The presence of top-tier universities and research institutions fuels the knowledge economy, with billions spent annually on R&D—over $700 billion USD, more than any other country.\\n\\nThe U.S. leads in many critical sectors, including software, biotechnology, aerospace, defense, financial services, and media. Its startup ecosystem, especially in Silicon Valley, produces unicorns and tech giants at a scale unmatched globally. Its financial markets—particularly Wall Street—are the most liquid and globally integrated in the world.'),\n",
       " Document(metadata={'source': 'data2/usa.txt'}, page_content='Challenges and Structural Issues\\nDespite its strength, the U.S. economy faces several serious long-term issues. The national debt has surpassed $34 trillion USD, raising concerns about fiscal sustainability, especially as interest payments alone are growing rapidly. The income and wealth inequality gap has widened, with a small percentage of Americans owning a disproportionate share of wealth. Access to affordable healthcare, housing shortages, and a declining labor force participation in some sectors are additional structural issues.\\n\\nAnother growing concern is political polarization, which often stalls crucial economic reforms and budget agreements, as seen in recurrent debt ceiling crises. The U.S. also faces challenges from global competition, especially from China in areas like AI, semiconductors, and green technology. Moreover, climate change, cybersecurity threats, and geopolitical risks (like Ukraine and Taiwan conflicts) add layers of vulnerability to economic planning.'),\n",
       " Document(metadata={'source': 'data2/usa.txt'}, page_content='Future Outlook (2025–2030)\\nLooking forward, the U.S. economy is expected to grow at a moderate pace, powered by innovation in AI, green energy, robotics, biotech, and quantum computing. The Biden administration’s Inflation Reduction Act and CHIPS Act are pumping massive investments into semiconductors, clean energy, and infrastructure. There is a strong push for reshoring of manufacturing, especially in critical sectors like chips, pharmaceuticals, and batteries.\\n\\nHowever, economic leadership will depend on managing the national debt, reforming entitlement programs, upgrading infrastructure, and ensuring the next generation is equipped with digital-age skills. If the U.S. can handle these challenges, it is well-positioned to remain a global economic powerhouse through 2030 and beyond.'),\n",
       " Document(metadata={'source': 'data2/usa.txt'}, page_content=\"Final Summary\\nThe U.S. economy remains the engine of global growth, backed by unmatched innovation, financial dominance, and a strong institutional framework. Its $28 trillion GDP and influence over global finance, trade, and technology make it the centerpiece of the modern economic system. Yet, rising debt, inequality, political gridlock, and competition from emerging powers demand careful policy navigation. If successfully addressed, the U.S. will continue to dominate the global economy well into the future.\\n\\nAbsolutely! Here's a **simple, expanded version** of the U.S. economy overview that includes some **history**, explains **capitalism**, and touches on how the U.S. grew into the world’s largest economy. It’s written in clear and easy-to-understand language:\\n\\n---\\n\\n## 🇺🇸 Simple and Complete Overview of the U.S. Economy\\n\\n### 🌍 What is the U.S. Economy?\"),\n",
       " Document(metadata={'source': 'data2/usa.txt'}, page_content='---\\n\\n## 🇺🇸 Simple and Complete Overview of the U.S. Economy\\n\\n### 🌍 What is the U.S. Economy?\\n\\nThe United States has the **largest economy in the world**. This means it produces and earns more money (GDP) than any other country. It is a very rich and powerful nation with strong businesses, banks, and technology companies. People in the U.S. work in many industries, including healthcare, education, real estate, finance, farming, and especially **technology** (like Apple, Google, and Microsoft).\\n\\n---\\n\\n## 🕰️ A Quick Look at U.S. Economic History\\n\\n### 🏛️ Birth of the Nation\\n\\n* The U.S. was born in **1776** after the **American Revolutionary War** against British rule.\\n* The country was led by **George Washington**, the **first president** of the United States.\\n* From the very beginning, America followed ideas like **freedom**, **free enterprise**, and **democracy**.\\n\\n### ⚙️ Growth Over Time'),\n",
       " Document(metadata={'source': 'data2/usa.txt'}, page_content='### ⚙️ Growth Over Time\\n\\n* During the **1800s**, America expanded westward, built railroads, and grew its farming and industrial base.\\n* In the **1900s**, it became a leader in manufacturing, cars (Ford), steel, and war supplies during World War I and II.\\n* After **World War II**, the U.S. economy exploded in growth and became the **world’s strongest**.\\n* The rise of **computers, the internet, and global trade** in the late 20th century made the U.S. a technology leader.\\n\\n---\\n\\n## 💰 What is Capitalism?\\n\\n* **Capitalism** is a system where businesses are owned by people (not the government), and they compete freely.\\n* People can **start their own businesses**, **sell products**, and **make a profit**.\\n* The U.S. is a **capitalist country**, but it also has some government programs (like schools, roads, and healthcare support), so it is called a **mixed economy**.\\n\\n---\\n\\n## 📊 How Big is the U.S. Economy?'),\n",
       " Document(metadata={'source': 'data2/usa.txt'}, page_content='---\\n\\n## 📊 How Big is the U.S. Economy?\\n\\n* As of **2024**, the U.S. economy is worth about **\\\\$28 trillion**.\\n* That’s about **25% of the world’s total economic activity**!\\n* **GDP per person** is around **\\\\$83,000**, showing most Americans have a high standard of living.\\n\\n---\\n\\n## 🏢 What Drives the U.S. Economy?\\n\\nThe U.S. economy is powered by:\\n\\n1. **Consumer spending** – People buying goods and services (about 70% of GDP)\\n2. **Innovation** – Inventions, new ideas, and technology\\n3. **Global trade** – Selling goods and services to other countries\\n4. **Financial services** – Banks, stock markets, and investment\\n\\n### Top Sectors:\\n\\n* **Technology**: Apple, Google, Microsoft\\n* **Healthcare**\\n* **Finance and Banking**\\n* **Real estate**\\n* **Education**\\n* **Agriculture and food exports**\\n\\n---\\n\\n## 🌎 The U.S. and the World'),\n",
       " Document(metadata={'source': 'data2/usa.txt'}, page_content='* **Technology**: Apple, Google, Microsoft\\n* **Healthcare**\\n* **Finance and Banking**\\n* **Real estate**\\n* **Education**\\n* **Agriculture and food exports**\\n\\n---\\n\\n## 🌎 The U.S. and the World\\n\\n* The **U.S. Dollar** is the world’s main currency used in trade and reserves.\\n* It is the leader in global organizations like the **IMF**, **World Bank**, **G7**, and **WTO**.\\n* The U.S. exports high-value items like airplanes, software, medicine, and services.\\n* It imports goods like clothes, electronics, and cars.\\n\\nEven though it **buys more than it sells** (trade deficit), other countries invest in the U.S., which keeps the balance stable.\\n\\n---\\n\\n## 🚀 Why Is the U.S. So Economically Powerful?\\n\\nHere’s what makes the U.S. economy strong:'),\n",
       " Document(metadata={'source': 'data2/usa.txt'}, page_content='---\\n\\n## 🚀 Why Is the U.S. So Economically Powerful?\\n\\nHere’s what makes the U.S. economy strong:\\n\\n* 🧠 **Innovation**: Home to the most creative companies in the world\\n* 🏫 **Top universities**: Like MIT, Stanford, and Harvard\\n* 💵 **Biggest stock markets**: Wall Street is the center of global finance\\n* 🤝 **Freedom to start businesses**: Encourages entrepreneurs and startups\\n* 🌍 **Immigration**: Skilled people from all over the world come to the U.S.\\n* ⚖️ **Strong legal system**: Protects ownership, contracts, and innovation\\n\\n---\\n\\n## ⚠️ Challenges the U.S. Economy Faces\\n\\nEven a strong economy has problems. The U.S. is facing:'),\n",
       " Document(metadata={'source': 'data2/usa.txt'}, page_content='---\\n\\n## ⚠️ Challenges the U.S. Economy Faces\\n\\nEven a strong economy has problems. The U.S. is facing:\\n\\n* **High national debt** – Over \\\\$34 trillion and growing fast\\n* **Wealth inequality** – Some people are very rich, while others struggle\\n* **Healthcare costs** – Medical care is very expensive\\n* **Housing shortages** – Not enough affordable homes in big cities\\n* **Political fights** – Government often gets stuck in arguments and delays decisions\\n* **Competition from China** – In areas like AI, semiconductors, and green tech\\n* **Climate change and cybersecurity threats**\\n\\n---\\n\\n## 🔮 The Future: 2025 and Beyond\\n\\nThe future of the U.S. economy looks **promising but challenging**.\\n\\n### Areas of Growth:\\n\\n* 🌱 **Green energy and clean tech**: Solar, wind, and EVs\\n* 🤖 **Artificial intelligence and robotics**\\n* 🧬 **Biotech and healthcare innovation**\\n* 🛰️ **Advanced manufacturing and semiconductors**\\n* 🧪 **Quantum computing and next-gen research**'),\n",
       " Document(metadata={'source': 'data2/usa.txt'}, page_content='The government is supporting growth with new laws like:\\n\\n* **The Inflation Reduction Act** – for clean energy and climate investment\\n* **The CHIPS Act** – to boost chip manufacturing in the U.S.\\n\\n---\\n\\n## 🧾 Final Summary (In Simple Words)\\n\\n* The U.S. is the **richest country** in the world.\\n* It grew by focusing on **freedom, innovation, and hard work**.\\n* It makes money through **technology, services, trade**, and **consumer spending**.\\n* The economy is **very powerful**, but it also has big problems like debt, inequality, and global competition.\\n* If the U.S. invests wisely and plans well, it can **stay strong and lead the world** for many more years.\\n\\n---')]"
      ]
     },
     "execution_count": 503,
     "metadata": {},
     "output_type": "execute_result"
    }
   ],
   "source": [
    "new_docs"
   ]
  },
  {
   "cell_type": "code",
   "execution_count": 504,
   "metadata": {},
   "outputs": [
    {
     "data": {
      "text/plain": [
       "['🇺🇸 Overview of the U.S. Economy\\nThe United States of America possesses the largest economy in the world in terms of nominal GDP, making it the most powerful economic force globally. It operates under a capitalist mixed economy, where the private sector dominates, but the government plays a significant regulatory and fiscal role. With a population of over 335 million people and a high level of technological advancement, the U.S. economy thrives on a foundation of consumer spending, innovation, global trade, and financial services. It has a highly diversified structure with strong sectors in technology, healthcare, finance, real estate, defense, and agriculture.',\n",
       " 'U.S. GDP – Size, Composition, and Global Share\\nAs of 2024, the United States’ nominal GDP is estimated to be around $28 trillion USD, accounting for approximately 25% of the global economy. It ranks #1 in the world by nominal GDP, far ahead of China (which ranks 2nd). The U.S. GDP per capita is also among the highest, hovering around $83,000, which indicates a high standard of living and productivity. In terms of Purchasing Power Parity (PPP), the U.S. ranks second, but nominal GDP is considered more reflective of actual economic size and financial influence.',\n",
       " 'The GDP is predominantly driven by the services sector, which contributes more than 77% to the total GDP. This includes industries such as finance, insurance, real estate, healthcare, education, and information technology. The industrial sector (manufacturing, construction, mining) makes up around 19%, while agriculture, although technologically advanced and export-oriented, contributes only about 1%. Despite its small share in GDP, U.S. agriculture is globally significant in terms of productivity and exports.',\n",
       " 'GDP Growth Trends and Dynamics\\nHistorically, the U.S. economy has enjoyed consistent long-term growth, averaging around 2-3% annually. Post-pandemic, the economy bounced back strongly, but 2022 and 2023 saw rising inflation due to supply chain issues and stimulus-driven demand. In 2024, the U.S. GDP grew at a modest pace of around 2.1%, as the Federal Reserve’s interest rate hikes aimed at controlling inflation also moderated economic expansion. Consumer spending, which makes up nearly 70% of GDP, remains a dominant force in economic stability.',\n",
       " 'The U.S. maintains its GDP growth through strong innovation, entrepreneurship, and investment in R&D. With companies like Apple, Google, Amazon, Microsoft, and Tesla leading global markets, the U.S. consistently produces high value across sectors, especially in technology and advanced services. Additionally, the economy benefits from intellectual property exports, financial services, and higher education, all of which contribute significantly to GDP through both domestic and international markets.\\n\\nRole in the Global Economy\\nThe U.S. Dollar (USD) is the global reserve currency, held by over 60% of the world’s central bank reserves. This gives the U.S. an enormous advantage in global trade and borrowing. The U.S. is a key member of international institutions like the World Bank, IMF, G7, G20, and WTO, and plays a central role in setting global economic policy.',\n",
       " \"As a global innovation hub, the U.S. attracts billions in foreign investment and hosts many of the world's largest and most valuable companies. Its exports include high-tech machinery, aircraft, pharmaceuticals, semiconductors, and financial services, while its imports cover consumer goods, electronics, automobiles, and industrial materials. The trade deficit remains large (around $900 billion in 2024), primarily because the U.S. consumes more than it exports, but its ability to finance this through capital inflows and reserve currency status sustains balance.\",\n",
       " 'Key Economic Strengths\\nThe core strength of the U.S. economy lies in its flexible labor market, deep capital markets, technological superiority, and legal system that encourages innovation and property rights. It has a large, highly educated workforce, a diverse immigration pipeline, and access to vast natural resources including oil, gas, coal, and farmland. The presence of top-tier universities and research institutions fuels the knowledge economy, with billions spent annually on R&D—over $700 billion USD, more than any other country.\\n\\nThe U.S. leads in many critical sectors, including software, biotechnology, aerospace, defense, financial services, and media. Its startup ecosystem, especially in Silicon Valley, produces unicorns and tech giants at a scale unmatched globally. Its financial markets—particularly Wall Street—are the most liquid and globally integrated in the world.',\n",
       " 'Challenges and Structural Issues\\nDespite its strength, the U.S. economy faces several serious long-term issues. The national debt has surpassed $34 trillion USD, raising concerns about fiscal sustainability, especially as interest payments alone are growing rapidly. The income and wealth inequality gap has widened, with a small percentage of Americans owning a disproportionate share of wealth. Access to affordable healthcare, housing shortages, and a declining labor force participation in some sectors are additional structural issues.\\n\\nAnother growing concern is political polarization, which often stalls crucial economic reforms and budget agreements, as seen in recurrent debt ceiling crises. The U.S. also faces challenges from global competition, especially from China in areas like AI, semiconductors, and green technology. Moreover, climate change, cybersecurity threats, and geopolitical risks (like Ukraine and Taiwan conflicts) add layers of vulnerability to economic planning.',\n",
       " 'Future Outlook (2025–2030)\\nLooking forward, the U.S. economy is expected to grow at a moderate pace, powered by innovation in AI, green energy, robotics, biotech, and quantum computing. The Biden administration’s Inflation Reduction Act and CHIPS Act are pumping massive investments into semiconductors, clean energy, and infrastructure. There is a strong push for reshoring of manufacturing, especially in critical sectors like chips, pharmaceuticals, and batteries.\\n\\nHowever, economic leadership will depend on managing the national debt, reforming entitlement programs, upgrading infrastructure, and ensuring the next generation is equipped with digital-age skills. If the U.S. can handle these challenges, it is well-positioned to remain a global economic powerhouse through 2030 and beyond.',\n",
       " \"Final Summary\\nThe U.S. economy remains the engine of global growth, backed by unmatched innovation, financial dominance, and a strong institutional framework. Its $28 trillion GDP and influence over global finance, trade, and technology make it the centerpiece of the modern economic system. Yet, rising debt, inequality, political gridlock, and competition from emerging powers demand careful policy navigation. If successfully addressed, the U.S. will continue to dominate the global economy well into the future.\\n\\nAbsolutely! Here's a **simple, expanded version** of the U.S. economy overview that includes some **history**, explains **capitalism**, and touches on how the U.S. grew into the world’s largest economy. It’s written in clear and easy-to-understand language:\\n\\n---\\n\\n## 🇺🇸 Simple and Complete Overview of the U.S. Economy\\n\\n### 🌍 What is the U.S. Economy?\",\n",
       " '---\\n\\n## 🇺🇸 Simple and Complete Overview of the U.S. Economy\\n\\n### 🌍 What is the U.S. Economy?\\n\\nThe United States has the **largest economy in the world**. This means it produces and earns more money (GDP) than any other country. It is a very rich and powerful nation with strong businesses, banks, and technology companies. People in the U.S. work in many industries, including healthcare, education, real estate, finance, farming, and especially **technology** (like Apple, Google, and Microsoft).\\n\\n---\\n\\n## 🕰️ A Quick Look at U.S. Economic History\\n\\n### 🏛️ Birth of the Nation\\n\\n* The U.S. was born in **1776** after the **American Revolutionary War** against British rule.\\n* The country was led by **George Washington**, the **first president** of the United States.\\n* From the very beginning, America followed ideas like **freedom**, **free enterprise**, and **democracy**.\\n\\n### ⚙️ Growth Over Time',\n",
       " '### ⚙️ Growth Over Time\\n\\n* During the **1800s**, America expanded westward, built railroads, and grew its farming and industrial base.\\n* In the **1900s**, it became a leader in manufacturing, cars (Ford), steel, and war supplies during World War I and II.\\n* After **World War II**, the U.S. economy exploded in growth and became the **world’s strongest**.\\n* The rise of **computers, the internet, and global trade** in the late 20th century made the U.S. a technology leader.\\n\\n---\\n\\n## 💰 What is Capitalism?\\n\\n* **Capitalism** is a system where businesses are owned by people (not the government), and they compete freely.\\n* People can **start their own businesses**, **sell products**, and **make a profit**.\\n* The U.S. is a **capitalist country**, but it also has some government programs (like schools, roads, and healthcare support), so it is called a **mixed economy**.\\n\\n---\\n\\n## 📊 How Big is the U.S. Economy?',\n",
       " '---\\n\\n## 📊 How Big is the U.S. Economy?\\n\\n* As of **2024**, the U.S. economy is worth about **\\\\$28 trillion**.\\n* That’s about **25% of the world’s total economic activity**!\\n* **GDP per person** is around **\\\\$83,000**, showing most Americans have a high standard of living.\\n\\n---\\n\\n## 🏢 What Drives the U.S. Economy?\\n\\nThe U.S. economy is powered by:\\n\\n1. **Consumer spending** – People buying goods and services (about 70% of GDP)\\n2. **Innovation** – Inventions, new ideas, and technology\\n3. **Global trade** – Selling goods and services to other countries\\n4. **Financial services** – Banks, stock markets, and investment\\n\\n### Top Sectors:\\n\\n* **Technology**: Apple, Google, Microsoft\\n* **Healthcare**\\n* **Finance and Banking**\\n* **Real estate**\\n* **Education**\\n* **Agriculture and food exports**\\n\\n---\\n\\n## 🌎 The U.S. and the World',\n",
       " '* **Technology**: Apple, Google, Microsoft\\n* **Healthcare**\\n* **Finance and Banking**\\n* **Real estate**\\n* **Education**\\n* **Agriculture and food exports**\\n\\n---\\n\\n## 🌎 The U.S. and the World\\n\\n* The **U.S. Dollar** is the world’s main currency used in trade and reserves.\\n* It is the leader in global organizations like the **IMF**, **World Bank**, **G7**, and **WTO**.\\n* The U.S. exports high-value items like airplanes, software, medicine, and services.\\n* It imports goods like clothes, electronics, and cars.\\n\\nEven though it **buys more than it sells** (trade deficit), other countries invest in the U.S., which keeps the balance stable.\\n\\n---\\n\\n## 🚀 Why Is the U.S. So Economically Powerful?\\n\\nHere’s what makes the U.S. economy strong:',\n",
       " '---\\n\\n## 🚀 Why Is the U.S. So Economically Powerful?\\n\\nHere’s what makes the U.S. economy strong:\\n\\n* 🧠 **Innovation**: Home to the most creative companies in the world\\n* 🏫 **Top universities**: Like MIT, Stanford, and Harvard\\n* 💵 **Biggest stock markets**: Wall Street is the center of global finance\\n* 🤝 **Freedom to start businesses**: Encourages entrepreneurs and startups\\n* 🌍 **Immigration**: Skilled people from all over the world come to the U.S.\\n* ⚖️ **Strong legal system**: Protects ownership, contracts, and innovation\\n\\n---\\n\\n## ⚠️ Challenges the U.S. Economy Faces\\n\\nEven a strong economy has problems. The U.S. is facing:',\n",
       " '---\\n\\n## ⚠️ Challenges the U.S. Economy Faces\\n\\nEven a strong economy has problems. The U.S. is facing:\\n\\n* **High national debt** – Over \\\\$34 trillion and growing fast\\n* **Wealth inequality** – Some people are very rich, while others struggle\\n* **Healthcare costs** – Medical care is very expensive\\n* **Housing shortages** – Not enough affordable homes in big cities\\n* **Political fights** – Government often gets stuck in arguments and delays decisions\\n* **Competition from China** – In areas like AI, semiconductors, and green tech\\n* **Climate change and cybersecurity threats**\\n\\n---\\n\\n## 🔮 The Future: 2025 and Beyond\\n\\nThe future of the U.S. economy looks **promising but challenging**.\\n\\n### Areas of Growth:\\n\\n* 🌱 **Green energy and clean tech**: Solar, wind, and EVs\\n* 🤖 **Artificial intelligence and robotics**\\n* 🧬 **Biotech and healthcare innovation**\\n* 🛰️ **Advanced manufacturing and semiconductors**\\n* 🧪 **Quantum computing and next-gen research**',\n",
       " 'The government is supporting growth with new laws like:\\n\\n* **The Inflation Reduction Act** – for clean energy and climate investment\\n* **The CHIPS Act** – to boost chip manufacturing in the U.S.\\n\\n---\\n\\n## 🧾 Final Summary (In Simple Words)\\n\\n* The U.S. is the **richest country** in the world.\\n* It grew by focusing on **freedom, innovation, and hard work**.\\n* It makes money through **technology, services, trade**, and **consumer spending**.\\n* The economy is **very powerful**, but it also has big problems like debt, inequality, and global competition.\\n* If the U.S. invests wisely and plans well, it can **stay strong and lead the world** for many more years.\\n\\n---']"
      ]
     },
     "execution_count": 504,
     "metadata": {},
     "output_type": "execute_result"
    }
   ],
   "source": [
    "doc_string = [doc.page_content for doc in new_docs]\n",
    "doc_string\n",
    "# len(doc_string)"
   ]
  },
  {
   "cell_type": "code",
   "execution_count": 505,
   "metadata": {},
   "outputs": [],
   "source": [
    "from langchain_community.vectorstores import chroma\n",
    "db = Chroma.from_documents(new_docs,embeddings)"
   ]
  },
  {
   "cell_type": "code",
   "execution_count": 506,
   "metadata": {},
   "outputs": [
    {
     "data": {
      "text/plain": [
       "[Document(metadata={'source': 'data2/usa.txt'}, page_content='Key Economic Strengths'),\n",
       " Document(metadata={'source': 'data2/usa.txt'}, page_content='Key Economic Strengths'),\n",
       " Document(metadata={'source': 'data2/usa.txt'}, page_content='Key Economic Strengths'),\n",
       " Document(metadata={'source': 'data2/usa.txt'}, page_content='Key Economic Strengths')]"
      ]
     },
     "execution_count": 506,
     "metadata": {},
     "output_type": "execute_result"
    }
   ],
   "source": [
    "retriever = db.as_retriever(seach_kwargs={\"k\":3})\n",
    "retriever.invoke(\"Key Economic Strengths of USA\")"
   ]
  },
  {
   "cell_type": "markdown",
   "metadata": {},
   "source": [
    "## Creating pyndantic chain"
   ]
  },
  {
   "cell_type": "code",
   "execution_count": 507,
   "metadata": {},
   "outputs": [],
   "source": [
    "import operator\n",
    "from typing import List\n",
    "from pydantic import BaseModel , Field\n",
    "from langchain.prompts import PromptTemplate\n",
    "from typing import TypedDict, Annotated, Sequence\n",
    "from langchain_core.messages import BaseMessage\n",
    "from langchain_core.output_parsers import StrOutputParser\n",
    "from langchain_core.prompts import ChatPromptTemplate, PromptTemplate\n",
    "from langchain_core.runnables import RunnablePassthrough\n",
    "from langchain_core.messages import HumanMessage, AIMessage\n",
    "from langgraph.graph import StateGraph,END"
   ]
  },
  {
   "cell_type": "code",
   "execution_count": 508,
   "metadata": {},
   "outputs": [],
   "source": [
    "class TopicSelectionParser (BaseModel):\n",
    "    Topic:str=Field(description=\"Selected topic\")\n",
    "    Reasoning:str = Field(description=\"Reasoning behind the topic selection\")"
   ]
  },
  {
   "cell_type": "code",
   "execution_count": 509,
   "metadata": {},
   "outputs": [
    {
     "data": {
      "text/plain": [
       "'The output should be formatted as a JSON instance that conforms to the JSON schema below.\\n\\nAs an example, for the schema {\"properties\": {\"foo\": {\"title\": \"Foo\", \"description\": \"a list of strings\", \"type\": \"array\", \"items\": {\"type\": \"string\"}}}, \"required\": [\"foo\"]}\\nthe object {\"foo\": [\"bar\", \"baz\"]} is a well-formatted instance of the schema. The object {\"properties\": {\"foo\": [\"bar\", \"baz\"]}} is not well-formatted.\\n\\nHere is the output schema:\\n```\\n{\"properties\": {\"Topic\": {\"description\": \"Selected topic\", \"title\": \"Topic\", \"type\": \"string\"}, \"Reasoning\": {\"description\": \"Reasoning behind the topic selection\", \"title\": \"Reasoning\", \"type\": \"string\"}}, \"required\": [\"Topic\", \"Reasoning\"]}\\n```'"
      ]
     },
     "execution_count": 509,
     "metadata": {},
     "output_type": "execute_result"
    }
   ],
   "source": [
    "from langchain.output_parsers import PydanticOutputParser\n",
    "parser = PydanticOutputParser(pydantic_object=TopicSelectionParser)\n",
    "parser.get_format_instructions()"
   ]
  },
  {
   "cell_type": "markdown",
   "metadata": {},
   "source": [
    "'The output should be formatted as a JSON instance that conforms to the JSON schema below.\\n\\nAs an example, for the schema {\"properties\": {\"foo\": {\"title\": \"Foo\", \"description\": \"a list of strings\", \"type\": \"array\", \"items\": {\"type\": \"string\"}}}, \"required\": [\"foo\"]}\\nthe object {\"foo\": [\"bar\", \"baz\"]} is a well-formatted instance of the schema. The object {\"properties\": {\"foo\": [\"bar\", \"baz\"]}} is not well-formatted.\\n\\nHere is the output schema:\\n```\\n{\"properties\": {\"Topic\": {\"description\": \"Selected topic\", \"title\": \"Topic\", \"type\": \"string\"}, \"Reasoninig\": {\"description\": \"Reasining behind the topic selection\", \"title\": \"Reasoninig\", \"type\": \"string\"}}, \"required\": [\"Topic\", \"Reasoninig\"]}\\n```'"
   ]
  },
  {
   "cell_type": "markdown",
   "metadata": {},
   "source": [
    "## Defining the state"
   ]
  },
  {
   "cell_type": "code",
   "execution_count": 510,
   "metadata": {},
   "outputs": [],
   "source": [
    "class AgentState(TypedDict):\n",
    "   messages : Annotated[Sequence[BaseMessage],operator.add]"
   ]
  },
  {
   "cell_type": "code",
   "execution_count": 511,
   "metadata": {},
   "outputs": [],
   "source": [
    "state = {\"messages\":[\"hi\"]}"
   ]
  },
  {
   "cell_type": "code",
   "execution_count": 512,
   "metadata": {},
   "outputs": [
    {
     "data": {
      "text/plain": [
       "{'messages': ['hi']}"
      ]
     },
     "execution_count": 512,
     "metadata": {},
     "output_type": "execute_result"
    }
   ],
   "source": [
    "state"
   ]
  },
  {
   "cell_type": "code",
   "execution_count": 513,
   "metadata": {},
   "outputs": [],
   "source": [
    "def function_1(state:AgentState):\n",
    "    question = state[\"messages\"][-1]\n",
    "    print(\"question\",question)\n",
    "    template = \"\"\"Your task is to classify the given user query into one of the following categories : [USA,web_service,Not Related].\n",
    "                  Only respond with the category name and nothing else.\n",
    "                  User query :{question}\n",
    "                  {format_instructions}\n",
    "                  \"\"\"\n",
    "    prompt = PromptTemplate(\n",
    "        template=template,\n",
    "        input_variables = [\"question\"],\n",
    "        partial_variables={\"format_instructions\":parser.get_format_instructions()}\n",
    "    )\n",
    "\n",
    "    chain = prompt | model | parser\n",
    "    response = chain.invoke({\"question\":question})\n",
    "    print(\"Parsed response\",response)\n",
    "    return{\"messages\":[response.Topic]}\n"
   ]
  },
  {
   "cell_type": "code",
   "execution_count": 514,
   "metadata": {},
   "outputs": [
    {
     "name": "stdout",
     "output_type": "stream",
     "text": [
      "question What's the current unemployment rate in the United States?\n",
      "Parsed response Topic='USA' Reasoning=\"The user query explicitly asks for information about the 'United States', specifically its unemployment rate, which directly pertains to the USA category.\"\n"
     ]
    },
    {
     "data": {
      "text/plain": [
       "{'messages': ['USA']}"
      ]
     },
     "execution_count": 514,
     "metadata": {},
     "output_type": "execute_result"
    }
   ],
   "source": [
    "#Test 1\n",
    "state ={\"messages\":[\"What's the current unemployment rate in the United States?\"]}\n",
    "function_1(state)"
   ]
  },
  {
   "cell_type": "code",
   "execution_count": 515,
   "metadata": {},
   "outputs": [
    {
     "name": "stdout",
     "output_type": "stream",
     "text": [
      "question What's the today' weather\n",
      "Parsed response Topic='web_service' Reasoning=\"The user query 'What's the today's weather' seeks information that is commonly provided by a web service, such as a weather API or a weather website.\"\n"
     ]
    },
    {
     "data": {
      "text/plain": [
       "{'messages': ['web_service']}"
      ]
     },
     "execution_count": 515,
     "metadata": {},
     "output_type": "execute_result"
    }
   ],
   "source": [
    "#Test 2\n",
    "state ={\"messages\":[\"What's the today' weather\"]}\n",
    "function_1(state)"
   ]
  },
  {
   "cell_type": "code",
   "execution_count": 516,
   "metadata": {},
   "outputs": [],
   "source": [
    "class TopicSelectionParser(BaseModel):\n",
    "    Topic:str=Field(description=\"selected topic\")\n",
    "    Reasoning:str=Field(description=\"Reasoning behind topic selection\")"
   ]
  },
  {
   "cell_type": "code",
   "execution_count": 517,
   "metadata": {},
   "outputs": [],
   "source": [
    "def router (state:AgentState):\n",
    "    print(\"-> ROUTER ->\")\n",
    "\n",
    "    last_message = state[\"messages\"][-1]\n",
    "    print(\"last_messages:\",last_message)\n",
    "\n",
    "    if \"usa\" in last_message.lower():\n",
    "        return \"RAG\"\n",
    "    elif \"web_service\" in last_message.lower():\n",
    "        return \"web_services\"\n",
    "    else :\n",
    "        return \"LLM\""
   ]
  },
  {
   "cell_type": "code",
   "execution_count": 518,
   "metadata": {},
   "outputs": [],
   "source": [
    "def format_docs(docs):\n",
    "    return \"\\n\\n\".join(doc.page_content for doc in docs)\n"
   ]
  },
  {
   "cell_type": "code",
   "execution_count": 519,
   "metadata": {},
   "outputs": [],
   "source": [
    "# RAG_function\n",
    "def function_2(state:AgentState):\n",
    "    print(\"->RAG call->\")\n",
    "    question = state[\"messages\"][0]\n",
    "    prompt = PromptTemplate(\n",
    "        template=\"\"\"You are an assistant for question-answering tasks. Use the following piece of retrieved context to answer the question. If you don't know the answer, just say that you don't know. Use three sentences maximum and keep the answer concise.\n",
    "\n",
    "Question: {question}\n",
    "Context: {context}\n",
    "Answer:\"\"\",\n",
    "        input_variables=['context', 'question']\n",
    "    )\n",
    "    rag_chain = (\n",
    "        {\"context\":retriever|format_docs,\"question\":RunnablePassthrough()}\n",
    "        | prompt\n",
    "        | model\n",
    "        | StrOutputParser()\n",
    "    )\n",
    "    result = rag_chain.invoke(question)\n",
    "    return{\"messages\":[result]}"
   ]
  },
  {
   "cell_type": "code",
   "execution_count": 520,
   "metadata": {},
   "outputs": [],
   "source": [
    "# LLM Function\n",
    "def function_3(state:AgentState):\n",
    "    print(\"->LLM Call-->\")\n",
    "    question = state[\"messages\"][0]\n",
    "    complete_query = \"Answer the following questions with your knowledge of the real world.Following is the user question:\"+question\n",
    "    response=model.invoke(complete_query)\n",
    "    return{\"messages\":[response.content]}"
   ]
  },
  {
   "cell_type": "code",
   "execution_count": 521,
   "metadata": {},
   "outputs": [
    {
     "name": "stdout",
     "output_type": "stream",
     "text": [
      "->LLM Call-->\n"
     ]
    },
    {
     "data": {
      "text/plain": [
       "{'messages': ['An **LLM** stands for **Large Language Model**.\\n\\nHere\\'s a breakdown of what that means:\\n\\n1.  **Large:** This refers to two main things:\\n    *   **Vast Amount of Data:** LLMs are trained on enormous datasets of text and code (trillions of words) scraped from the internet (books, articles, websites, conversations, etc.). This massive exposure allows them to learn complex patterns, grammar, facts, and relationships between words.\\n    *   **Massive Number of Parameters:** These models have billions, or even trillions, of \"parameters\" – essentially the internal variables and connections within the neural network that allow it to learn and make predictions. More parameters generally mean a more complex and capable model.\\n\\n2.  **Language:** Their primary function is to understand, generate, and process human language (text). They are designed to interact with us using natural language, similar to how humans communicate.\\n\\n3.  **Model:** This refers to a type of artificial intelligence (AI) algorithm, specifically a **deep learning** model. It\\'s a complex mathematical structure that learns from data to perform a specific task.\\n\\n**In essence, an LLM is a powerful AI program designed to:**\\n\\n*   **Understand Context:** It can grasp the meaning and nuances of text you provide.\\n*   **Generate Human-like Text:** It can produce coherent, grammatically correct, and often creative text that sounds like it was written by a human. This is done by predicting the most probable next word in a sequence, based on its training.\\n*   **Perform Various Language Tasks:**\\n    *   Answering questions\\n    *   Writing different kinds of creative content (stories, poems, code, scripts, emails, letters, etc.)\\n    *   Summarizing long documents\\n    *   Translating languages\\n    *   Engaging in conversations (like the one we\\'re having now)\\n    *   Brainstorming ideas\\n    *   Code generation and debugging\\n\\n**Think of it like a super-advanced autocomplete and knowledge base combined.** It doesn\\'t \"think\" or \"understand\" in a human sense, but it\\'s incredibly good at recognizing patterns in language and generating relevant, plausible responses based on the vast amount of information it has been trained on.']}"
      ]
     },
     "execution_count": 521,
     "metadata": {},
     "output_type": "execute_result"
    }
   ],
   "source": [
    "#Test\n",
    "state = {\"messages\":[\"What is a LLM\"]}\n",
    "function_3(state)"
   ]
  },
  {
   "cell_type": "code",
   "execution_count": 522,
   "metadata": {},
   "outputs": [],
   "source": [
    "# from langchain_community.tools.tavily_search import TavilySearchResults\n",
    "\n",
    "# def function_4(state:AgentState):\n",
    "#     print(\"-->web_services\")\n",
    "#     question = state[\"messages\"][0]\n",
    "#     import os\n",
    "#     TAVILY_API_KEY=os.getenv(\"TAVILY_API_KEY\")\n",
    "#     print(TAVILY_API_KEY)\n",
    "#     tool=TavilySearchResults(tavily_api_key=TAVILY_API_KEY)\n",
    "#     result = tool.invoke({\"query\":question})\n",
    "#     return result \n",
    "\n",
    "def function_4(state: AgentState):\n",
    "    print(\"-->web_services\")\n",
    "    question = state[\"messages\"][0]\n",
    "    \n",
    "    try:\n",
    "        import os\n",
    "        TAVILY_API_KEY = os.getenv(\"TAVILY_API_KEY\")\n",
    "        \n",
    "        if not TAVILY_API_KEY:\n",
    "            return {\"messages\": [\"Web search unavailable - API key not found\"]}\n",
    "        \n",
    "        tool = TavilySearchResults(tavily_api_key=TAVILY_API_KEY)\n",
    "        search_results = tool.invoke({\"query\": question})\n",
    "        \n",
    "        # ✅ Format the results into a readable response\n",
    "        if search_results:\n",
    "            formatted_response = f\"Based on current web search results for '{question}':\\n\\n\"\n",
    "            \n",
    "            for i, result in enumerate(search_results[:3], 1):  # Top 3 results\n",
    "                title = result.get('title', 'No title')\n",
    "                content = result.get('content', 'No content')\n",
    "                url = result.get('url', 'No URL')\n",
    "                \n",
    "                # Trim content to manageable length\n",
    "                content_preview = content[:300] + \"...\" if len(content) > 300 else content\n",
    "                \n",
    "                formatted_response += f\"{i}. **{title}**\\n\"\n",
    "                formatted_response += f\"   {content_preview}\\n\"\n",
    "                formatted_response += f\"   Source: {url}\\n\\n\"\n",
    "        else:\n",
    "            formatted_response = f\"No search results found for '{question}'\"\n",
    "        \n",
    "        # ✅ Return properly formatted state dictionary\n",
    "        return {\"messages\": [formatted_response]}\n",
    "        \n",
    "    except Exception as e:\n",
    "        # ✅ Handle errors gracefully\n",
    "        return {\"messages\": [f\"Web search failed: {str(e)}\"]}\n"
   ]
  },
  {
   "cell_type": "code",
   "execution_count": 523,
   "metadata": {},
   "outputs": [
    {
     "name": "stdout",
     "output_type": "stream",
     "text": [
      "-->web_services\n"
     ]
    },
    {
     "data": {
      "text/plain": [
       "{'messages': ['Based on current web search results for \\'What is Atlanta\\':\\n\\n1. **Atlanta - Wikipedia**\\n   **Atlanta** ([/ætˈlæntə/](/wiki/Help:IPA/English \"Help:IPA/English\") [ⓘ](/wiki/File:En-us-Atlanta-local.oga \"File:En-us-Atlanta-local.oga\") [*at-LAN-tə*](/wiki/Help:Pronunciation_respelling_key \"Help:Pronunciation respelling key\"))[[15]](#cite_note-15) is the [capital](/wiki/List_of_capitals_in_the_...\\n   Source: https://en.wikipedia.org/wiki/Atlanta\\n\\n2. **Atlanta | History, Population, Facts, & Points of Interest | Britannica**\\n   [Downtown Atlanta](https://cdn.britannica.com/22/255622-050-2FC36DF1/downtown-Atlanta-Georgia.jpg)A view of downtown Atlanta, Georgia, at sunset. Atlanta is the state capital and the seat of Fulton county.(more)\\n\\nAtlanta\\n=======\\n\\nGeorgia, United States\\n\\n Ask the Chatbot a Question \\n\\n More Actions \\n\\n...\\n   Source: https://www.britannica.com/place/Atlanta-Georgia\\n\\n']}"
      ]
     },
     "execution_count": 523,
     "metadata": {},
     "output_type": "execute_result"
    }
   ],
   "source": [
    "#test\n",
    "state = {\"messages\":[\"What is Atlanta\"]}\n",
    "function_4(state)"
   ]
  },
  {
   "cell_type": "markdown",
   "metadata": {},
   "source": [
    "-- added new node for validations "
   ]
  },
  {
   "cell_type": "code",
   "execution_count": 524,
   "metadata": {},
   "outputs": [],
   "source": [
    "# Step 2: Final output node\n",
    "def final_output_node(state: AgentState):\n",
    "    print(\"🏁 Final Output Delivered:\", state[\"messages\"][-1])\n",
    "    return state\n"
   ]
  },
  {
   "cell_type": "code",
   "execution_count": 525,
   "metadata": {},
   "outputs": [],
   "source": [
    "# Step 1: Validation node\n",
    "def validation_node(state: AgentState):\n",
    "    response = state[\"messages\"][-1]\n",
    "    print(\"🔍 Validating response:\", response)\n",
    "\n",
    "    # Basic validation: reject if too short or contains error keywords\n",
    "    if len(response.strip()) < 10 or \"error\" in response.lower():\n",
    "        print(\"❌ Validation failed\")\n",
    "        return {\"messages\": state[\"messages\"], \"validation_result\": \"fail\"}\n",
    "    \n",
    "    print(\"✅ Validation passed\")\n",
    "    return {\"messages\": state[\"messages\"], \"validation_result\": \"pass\"}\n"
   ]
  },
  {
   "cell_type": "code",
   "execution_count": 526,
   "metadata": {},
   "outputs": [],
   "source": [
    "from langgraph.graph import StateGraph,END"
   ]
  },
  {
   "cell_type": "code",
   "execution_count": 527,
   "metadata": {},
   "outputs": [],
   "source": [
    "workflow = StateGraph(AgentState)"
   ]
  },
  {
   "cell_type": "code",
   "execution_count": 528,
   "metadata": {},
   "outputs": [
    {
     "data": {
      "text/plain": [
       "<langgraph.graph.state.StateGraph at 0x17bde9c70>"
      ]
     },
     "execution_count": 528,
     "metadata": {},
     "output_type": "execute_result"
    }
   ],
   "source": [
    "workflow = StateGraph(AgentState)\n",
    "workflow.add_node(\"Supervisor\",function_1)\n",
    "workflow.add_node(\"RAG\",function_2)\n",
    "workflow.add_node(\"LLM\",function_3)\n",
    "workflow.add_node(\"web_services\",function_4)\n",
    "workflow.add_node(\"Validation\", validation_node)\n",
    "workflow.add_node(\"FinalOutput\", final_output_node)\n"
   ]
  },
  {
   "cell_type": "code",
   "execution_count": 529,
   "metadata": {},
   "outputs": [
    {
     "data": {
      "text/plain": [
       "<langgraph.graph.state.StateGraph at 0x17bde9c70>"
      ]
     },
     "execution_count": 529,
     "metadata": {},
     "output_type": "execute_result"
    }
   ],
   "source": [
    "workflow.set_entry_point(\"Supervisor\")"
   ]
  },
  {
   "cell_type": "code",
   "execution_count": 530,
   "metadata": {},
   "outputs": [
    {
     "data": {
      "text/plain": [
       "<langgraph.graph.state.StateGraph at 0x17bde9c70>"
      ]
     },
     "execution_count": 530,
     "metadata": {},
     "output_type": "execute_result"
    }
   ],
   "source": [
    "workflow.add_edge(\"LLM\", \"Validation\")\n",
    "workflow.add_edge(\"RAG\", \"Validation\")\n",
    "workflow.add_edge(\"web_services\", \"Validation\")\n"
   ]
  },
  {
   "cell_type": "code",
   "execution_count": 531,
   "metadata": {},
   "outputs": [
    {
     "data": {
      "text/plain": [
       "<langgraph.graph.state.StateGraph at 0x17bde9c70>"
      ]
     },
     "execution_count": 531,
     "metadata": {},
     "output_type": "execute_result"
    }
   ],
   "source": [
    "workflow.add_conditional_edges(\n",
    "    \"Supervisor\",\n",
    "    router,\n",
    "    {\n",
    "        \"RAG\":\"RAG\",\n",
    "        \"LLM\":\"LLM\",\n",
    "        \"web_services\":\"web_services\",\n",
    "    }\n",
    ")"
   ]
  },
  {
   "cell_type": "code",
   "execution_count": null,
   "metadata": {},
   "outputs": [],
   "source": []
  },
  {
   "cell_type": "code",
   "execution_count": 532,
   "metadata": {},
   "outputs": [
    {
     "data": {
      "text/plain": [
       "<langgraph.graph.state.StateGraph at 0x17bde9c70>"
      ]
     },
     "execution_count": 532,
     "metadata": {},
     "output_type": "execute_result"
    }
   ],
   "source": [
    "workflow.add_edge(\"RAG\",END)\n",
    "workflow.add_edge(\"LLM\",END)\n",
    "workflow.add_edge(\"web_services\",END)"
   ]
  },
  {
   "cell_type": "code",
   "execution_count": 533,
   "metadata": {},
   "outputs": [
    {
     "data": {
      "text/plain": [
       "<langgraph.graph.state.StateGraph at 0x17bde9c70>"
      ]
     },
     "execution_count": 533,
     "metadata": {},
     "output_type": "execute_result"
    }
   ],
   "source": [
    "workflow.add_conditional_edges(\n",
    "    \"Validation\",\n",
    "    lambda state: state[\"validation_result\"],\n",
    "    {\n",
    "        \"fail\": \"Supervisor\",       # Retry if validation fails\n",
    "        \"pass\": \"FinalOutput\"       # Continue if validation passes\n",
    "    }\n",
    ")\n"
   ]
  },
  {
   "cell_type": "code",
   "execution_count": 534,
   "metadata": {},
   "outputs": [
    {
     "data": {
      "image/png": "[encoded data removed]",
      "text/plain": [
       "<langgraph.graph.state.CompiledStateGraph object at 0x30aa909e0>"
      ]
     },
     "execution_count": 534,
     "metadata": {},
     "output_type": "execute_result"
    }
   ],
   "source": [
    "workflow.compile()"
   ]
  },
  {
   "cell_type": "code",
   "execution_count": 535,
   "metadata": {},
   "outputs": [],
   "source": [
    "app= workflow.compile()"
   ]
  },
  {
   "cell_type": "code",
   "execution_count": 536,
   "metadata": {},
   "outputs": [],
   "source": [
    "state = {\"messages\":[\"What is Atlanta\"]}\n"
   ]
  },
  {
   "cell_type": "code",
   "execution_count": 537,
   "metadata": {},
   "outputs": [
    {
     "name": "stdout",
     "output_type": "stream",
     "text": [
      "question What is Atlanta\n",
      "Parsed response Topic='USA' Reasoning='Atlanta is a major city located in the United States of America, specifically the capital of Georgia. The query directly pertains to a geographical location within the USA.'\n",
      "-> ROUTER ->\n",
      "last_messages: USA\n",
      "->RAG call->\n",
      "🔍 Validating response: I don't know what Atlanta is based on the provided context. The context only discusses an \"Overview of the U.S. Economy.\"\n",
      "✅ Validation passed\n",
      "🏁 Final Output Delivered: I don't know what Atlanta is based on the provided context. The context only discusses an \"Overview of the U.S. Economy.\"\n"
     ]
    },
    {
     "data": {
      "text/plain": [
       "{'messages': ['What is Atlanta',\n",
       "  'USA',\n",
       "  'I don\\'t know what Atlanta is based on the provided context. The context only discusses an \"Overview of the U.S. Economy.\"',\n",
       "  'What is Atlanta',\n",
       "  'USA',\n",
       "  'I don\\'t know what Atlanta is based on the provided context. The context only discusses an \"Overview of the U.S. Economy.\"',\n",
       "  'What is Atlanta',\n",
       "  'USA',\n",
       "  'I don\\'t know what Atlanta is based on the provided context. The context only discusses an \"Overview of the U.S. Economy.\"',\n",
       "  'What is Atlanta',\n",
       "  'USA',\n",
       "  'I don\\'t know what Atlanta is based on the provided context. The context only discusses an \"Overview of the U.S. Economy.\"']}"
      ]
     },
     "execution_count": 537,
     "metadata": {},
     "output_type": "execute_result"
    }
   ],
   "source": [
    "app.invoke(state)"
   ]
  },
  {
   "cell_type": "code",
   "execution_count": 538,
   "metadata": {},
   "outputs": [],
   "source": [
    "state = {\"messages\":[\"What is Key Economic Strengths of USA\"]}\n"
   ]
  },
  {
   "cell_type": "code",
   "execution_count": 539,
   "metadata": {},
   "outputs": [
    {
     "name": "stdout",
     "output_type": "stream",
     "text": [
      "question What is Key Economic Strengths of USA\n",
      "Parsed response Topic='USA' Reasoning=\"The user query explicitly asks about the 'Key Economic Strengths of USA', directly relating to the USA category.\"\n",
      "-> ROUTER ->\n",
      "last_messages: USA\n",
      "->RAG call->\n",
      "🔍 Validating response: I don't know the answer based on the provided context. The context only states \"Key Economic Strengths\" but does not list what those strengths are.\n",
      "✅ Validation passed\n",
      "🏁 Final Output Delivered: I don't know the answer based on the provided context. The context only states \"Key Economic Strengths\" but does not list what those strengths are.\n"
     ]
    },
    {
     "data": {
      "text/plain": [
       "{'messages': ['What is Key Economic Strengths of USA',\n",
       "  'USA',\n",
       "  'I don\\'t know the answer based on the provided context. The context only states \"Key Economic Strengths\" but does not list what those strengths are.',\n",
       "  'What is Key Economic Strengths of USA',\n",
       "  'USA',\n",
       "  'I don\\'t know the answer based on the provided context. The context only states \"Key Economic Strengths\" but does not list what those strengths are.',\n",
       "  'What is Key Economic Strengths of USA',\n",
       "  'USA',\n",
       "  'I don\\'t know the answer based on the provided context. The context only states \"Key Economic Strengths\" but does not list what those strengths are.',\n",
       "  'What is Key Economic Strengths of USA',\n",
       "  'USA',\n",
       "  'I don\\'t know the answer based on the provided context. The context only states \"Key Economic Strengths\" but does not list what those strengths are.']}"
      ]
     },
     "execution_count": 539,
     "metadata": {},
     "output_type": "execute_result"
    }
   ],
   "source": [
    "app.invoke(state)"
   ]
  },
  {
   "cell_type": "code",
   "execution_count": 540,
   "metadata": {},
   "outputs": [],
   "source": [
    "state = {\"messages\":[\"Give me summary of USA economy\"]}\n"
   ]
  },
  {
   "cell_type": "code",
   "execution_count": 541,
   "metadata": {},
   "outputs": [
    {
     "name": "stdout",
     "output_type": "stream",
     "text": [
      "question Give me summary of USA economy\n",
      "Parsed response Topic='USA' Reasoning=\"The user query explicitly asks for a summary of the 'USA economy', which directly relates to the 'USA' category.\"\n",
      "-> ROUTER ->\n",
      "last_messages: USA\n",
      "->RAG call->\n",
      "🔍 Validating response: I don't have enough information from the provided context to summarize the USA economy. The context only states \"Overview of the U.S. Economy\" without further details.\n",
      "✅ Validation passed\n",
      "🏁 Final Output Delivered: I don't have enough information from the provided context to summarize the USA economy. The context only states \"Overview of the U.S. Economy\" without further details.\n"
     ]
    },
    {
     "data": {
      "text/plain": [
       "{'messages': ['Give me summary of USA economy',\n",
       "  'USA',\n",
       "  'I don\\'t have enough information from the provided context to summarize the USA economy. The context only states \"Overview of the U.S. Economy\" without further details.',\n",
       "  'Give me summary of USA economy',\n",
       "  'USA',\n",
       "  'I don\\'t have enough information from the provided context to summarize the USA economy. The context only states \"Overview of the U.S. Economy\" without further details.',\n",
       "  'Give me summary of USA economy',\n",
       "  'USA',\n",
       "  'I don\\'t have enough information from the provided context to summarize the USA economy. The context only states \"Overview of the U.S. Economy\" without further details.',\n",
       "  'Give me summary of USA economy',\n",
       "  'USA',\n",
       "  'I don\\'t have enough information from the provided context to summarize the USA economy. The context only states \"Overview of the U.S. Economy\" without further details.']}"
      ]
     },
     "execution_count": 541,
     "metadata": {},
     "output_type": "execute_result"
    }
   ],
   "source": [
    "app.invoke(state)"
   ]
  },
  {
   "cell_type": "code",
   "execution_count": 543,
   "metadata": {},
   "outputs": [
    {
     "name": "stdout",
     "output_type": "stream",
     "text": [
      "question Give me summary of India\n",
      "Parsed response Topic='Not Related' Reasoning=\"The user query asks for a summary of India. This topic does not fall under 'USA' and is not a query about a 'web_service' itself, but rather a general information request. Therefore, it is 'Not Related' to the given categories.\"\n",
      "-> ROUTER ->\n",
      "last_messages: Not Related\n",
      "->LLM Call-->\n",
      "🔍 Validating response: India is a vast and incredibly diverse country located in South Asia. Here's a summary of its key aspects:\n",
      "\n",
      "1.  **Geography & Demographics:**\n",
      "    *   **Location:** Occupies most of the Indian subcontinent, bordering Pakistan, China, Nepal, Bhutan, Bangladesh, and Myanmar. It has a long coastline along the Indian Ocean (Arabian Sea and Bay of Bengal).\n",
      "    *   **Size:** Seventh-largest country by land area.\n",
      "    *   **Population:** The world's most populous country (as of 2023, surpassing China), with over 1.4 billion people. It's a very young nation, with a significant youth demographic.\n",
      "    *   **Diversity:** Known for its immense diversity in terms of ethnicity, language, religion, culture, and geography (from the Himalayan mountains to deserts, plains, and tropical coastlines).\n",
      "\n",
      "2.  **Government & Politics:**\n",
      "    *   **Largest Democracy:** India is the world's largest democracy, with a parliamentary system of government.\n",
      "    *   **Structure:** A federal republic comprising 28 states and 8 union territories.\n",
      "    *   **Constitution:** Its constitution declares India a sovereign, socialist, secular, and democratic republic, ensuring justice, equality, and liberty to its citizens.\n",
      "\n",
      "3.  **Economy:**\n",
      "    *   **Size:** The world's fifth-largest economy by nominal GDP and third-largest by purchasing power parity (PPP).\n",
      "    *   **Growth:** One of the fastest-growing major economies globally.\n",
      "    *   **Sectors:** Historically agrarian, its economy has diversified, with a significant contribution from the services sector (especially IT and business process outsourcing) and a growing manufacturing sector (\"Make in India\" initiative).\n",
      "    *   **Challenges:** Despite growth, India faces challenges like poverty, income inequality, unemployment, and infrastructure development needs.\n",
      "\n",
      "4.  **Culture & Society:**\n",
      "    *   **Ancient Civilization:** Home to the ancient Indus Valley Civilization, India has a history stretching back thousands of years.\n",
      "    *   **Religions:** Birthplace of four major world religions: Hinduism, Buddhism, Jainism, and Sikhism. Hinduism is the majority religion, but India has a large Muslim population, as well as significant Christian, Sikh, Buddhist, and Jain communities.\n",
      "    *   **Languages:** Extremely linguistically diverse. Hindi is the official language of the Union, and English serves as an associate official language. There are 22 scheduled languages recognized by the constitution, and hundreds of other dialects spoken across the country.\n",
      "    *   **Arts & Heritage:** Rich traditions in music (classical, folk, popular), dance (classical forms like Bharatanatyam, Kathak), cinema (Bollywood is the largest film industry in the world by number of films produced), literature, architecture (Taj Mahal, ancient temples), and philosophy.\n",
      "    *   **Social Structure:** While the historical caste system has been legally abolished and discrimination based on caste is illegal, its social effects and influences still persist in various forms.\n",
      "\n",
      "5.  **History (Brief Overview):**\n",
      "    *   Witnessed the rise and fall of numerous empires (e.g., Mauryan, Gupta, Mughal).\n",
      "    *   Came under British colonial rule in the 18th century, culminating in the British Raj.\n",
      "    *   Gained independence in 1947, followed by the partition into India and Pakistan.\n",
      "\n",
      "6.  **Global Standing:**\n",
      "    *   A rising global power with increasing influence in international affairs.\n",
      "    *   A nuclear-weapon state and a major contributor to UN peacekeeping missions.\n",
      "    *   Active in various international forums like the G20, BRICS, and the Shanghai Cooperation Organisation.\n",
      "\n",
      "In essence, India is a land of vibrant contrasts, deep historical roots, profound cultural richness, and immense future potential, navigating complex social, economic, and environmental challenges on its path to becoming a major global player.\n",
      "✅ Validation passed\n",
      "🏁 Final Output Delivered: India is a vast and incredibly diverse country located in South Asia. Here's a summary of its key aspects:\n",
      "\n",
      "1.  **Geography & Demographics:**\n",
      "    *   **Location:** Occupies most of the Indian subcontinent, bordering Pakistan, China, Nepal, Bhutan, Bangladesh, and Myanmar. It has a long coastline along the Indian Ocean (Arabian Sea and Bay of Bengal).\n",
      "    *   **Size:** Seventh-largest country by land area.\n",
      "    *   **Population:** The world's most populous country (as of 2023, surpassing China), with over 1.4 billion people. It's a very young nation, with a significant youth demographic.\n",
      "    *   **Diversity:** Known for its immense diversity in terms of ethnicity, language, religion, culture, and geography (from the Himalayan mountains to deserts, plains, and tropical coastlines).\n",
      "\n",
      "2.  **Government & Politics:**\n",
      "    *   **Largest Democracy:** India is the world's largest democracy, with a parliamentary system of government.\n",
      "    *   **Structure:** A federal republic comprising 28 states and 8 union territories.\n",
      "    *   **Constitution:** Its constitution declares India a sovereign, socialist, secular, and democratic republic, ensuring justice, equality, and liberty to its citizens.\n",
      "\n",
      "3.  **Economy:**\n",
      "    *   **Size:** The world's fifth-largest economy by nominal GDP and third-largest by purchasing power parity (PPP).\n",
      "    *   **Growth:** One of the fastest-growing major economies globally.\n",
      "    *   **Sectors:** Historically agrarian, its economy has diversified, with a significant contribution from the services sector (especially IT and business process outsourcing) and a growing manufacturing sector (\"Make in India\" initiative).\n",
      "    *   **Challenges:** Despite growth, India faces challenges like poverty, income inequality, unemployment, and infrastructure development needs.\n",
      "\n",
      "4.  **Culture & Society:**\n",
      "    *   **Ancient Civilization:** Home to the ancient Indus Valley Civilization, India has a history stretching back thousands of years.\n",
      "    *   **Religions:** Birthplace of four major world religions: Hinduism, Buddhism, Jainism, and Sikhism. Hinduism is the majority religion, but India has a large Muslim population, as well as significant Christian, Sikh, Buddhist, and Jain communities.\n",
      "    *   **Languages:** Extremely linguistically diverse. Hindi is the official language of the Union, and English serves as an associate official language. There are 22 scheduled languages recognized by the constitution, and hundreds of other dialects spoken across the country.\n",
      "    *   **Arts & Heritage:** Rich traditions in music (classical, folk, popular), dance (classical forms like Bharatanatyam, Kathak), cinema (Bollywood is the largest film industry in the world by number of films produced), literature, architecture (Taj Mahal, ancient temples), and philosophy.\n",
      "    *   **Social Structure:** While the historical caste system has been legally abolished and discrimination based on caste is illegal, its social effects and influences still persist in various forms.\n",
      "\n",
      "5.  **History (Brief Overview):**\n",
      "    *   Witnessed the rise and fall of numerous empires (e.g., Mauryan, Gupta, Mughal).\n",
      "    *   Came under British colonial rule in the 18th century, culminating in the British Raj.\n",
      "    *   Gained independence in 1947, followed by the partition into India and Pakistan.\n",
      "\n",
      "6.  **Global Standing:**\n",
      "    *   A rising global power with increasing influence in international affairs.\n",
      "    *   A nuclear-weapon state and a major contributor to UN peacekeeping missions.\n",
      "    *   Active in various international forums like the G20, BRICS, and the Shanghai Cooperation Organisation.\n",
      "\n",
      "In essence, India is a land of vibrant contrasts, deep historical roots, profound cultural richness, and immense future potential, navigating complex social, economic, and environmental challenges on its path to becoming a major global player.\n",
      "India is a vast and incredibly diverse country located in South Asia. Here's a summary of its key aspects:\n",
      "\n",
      "1.  **Geography & Demographics:**\n",
      "    *   **Location:** Occupies most of the Indian subcontinent, bordering Pakistan, China, Nepal, Bhutan, Bangladesh, and Myanmar. It has a long coastline along the Indian Ocean (Arabian Sea and Bay of Bengal).\n",
      "    *   **Size:** Seventh-largest country by land area.\n",
      "    *   **Population:** The world's most populous country (as of 2023, surpassing China), with over 1.4 billion people. It's a very young nation, with a significant youth demographic.\n",
      "    *   **Diversity:** Known for its immense diversity in terms of ethnicity, language, religion, culture, and geography (from the Himalayan mountains to deserts, plains, and tropical coastlines).\n",
      "\n",
      "2.  **Government & Politics:**\n",
      "    *   **Largest Democracy:** India is the world's largest democracy, with a parliamentary system of government.\n",
      "    *   **Structure:** A federal republic comprising 28 states and 8 union territories.\n",
      "    *   **Constitution:** Its constitution declares India a sovereign, socialist, secular, and democratic republic, ensuring justice, equality, and liberty to its citizens.\n",
      "\n",
      "3.  **Economy:**\n",
      "    *   **Size:** The world's fifth-largest economy by nominal GDP and third-largest by purchasing power parity (PPP).\n",
      "    *   **Growth:** One of the fastest-growing major economies globally.\n",
      "    *   **Sectors:** Historically agrarian, its economy has diversified, with a significant contribution from the services sector (especially IT and business process outsourcing) and a growing manufacturing sector (\"Make in India\" initiative).\n",
      "    *   **Challenges:** Despite growth, India faces challenges like poverty, income inequality, unemployment, and infrastructure development needs.\n",
      "\n",
      "4.  **Culture & Society:**\n",
      "    *   **Ancient Civilization:** Home to the ancient Indus Valley Civilization, India has a history stretching back thousands of years.\n",
      "    *   **Religions:** Birthplace of four major world religions: Hinduism, Buddhism, Jainism, and Sikhism. Hinduism is the majority religion, but India has a large Muslim population, as well as significant Christian, Sikh, Buddhist, and Jain communities.\n",
      "    *   **Languages:** Extremely linguistically diverse. Hindi is the official language of the Union, and English serves as an associate official language. There are 22 scheduled languages recognized by the constitution, and hundreds of other dialects spoken across the country.\n",
      "    *   **Arts & Heritage:** Rich traditions in music (classical, folk, popular), dance (classical forms like Bharatanatyam, Kathak), cinema (Bollywood is the largest film industry in the world by number of films produced), literature, architecture (Taj Mahal, ancient temples), and philosophy.\n",
      "    *   **Social Structure:** While the historical caste system has been legally abolished and discrimination based on caste is illegal, its social effects and influences still persist in various forms.\n",
      "\n",
      "5.  **History (Brief Overview):**\n",
      "    *   Witnessed the rise and fall of numerous empires (e.g., Mauryan, Gupta, Mughal).\n",
      "    *   Came under British colonial rule in the 18th century, culminating in the British Raj.\n",
      "    *   Gained independence in 1947, followed by the partition into India and Pakistan.\n",
      "\n",
      "6.  **Global Standing:**\n",
      "    *   A rising global power with increasing influence in international affairs.\n",
      "    *   A nuclear-weapon state and a major contributor to UN peacekeeping missions.\n",
      "    *   Active in various international forums like the G20, BRICS, and the Shanghai Cooperation Organisation.\n",
      "\n",
      "In essence, India is a land of vibrant contrasts, deep historical roots, profound cultural richness, and immense future potential, navigating complex social, economic, and environmental challenges on its path to becoming a major global player.\n"
     ]
    }
   ],
   "source": [
    "state = {\"messages\":[\"Give me summary of India\"]}\n",
    "result = app.invoke(state)\n",
    "print(result[\"messages\"][-1])  # Should now have substantial content"
   ]
  },
  {
   "cell_type": "code",
   "execution_count": null,
   "metadata": {},
   "outputs": [
    {
     "name": "stdout",
     "output_type": "stream",
     "text": [
      "question Give me latest news of India on internet \n",
      "Parsed response Topic='web_service' Reasoning=\"The query 'Give me latest news of India on internet' implies the use of an online service or platform (internet) to retrieve information (news), which falls under the 'web_service' category.\"\n",
      "-> ROUTER ->\n",
      "last_messages: web_service\n",
      "-->web_services\n",
      "Based on current web search results for 'Give me latest news of India on internet ':\n",
      "\n",
      "1. **NDTV.com: Get Latest News, India News, Breaking News, Today's ...**\n",
      "   NDTV.com provides latest news from India and around the world. Get breaking news alerts from India and follow today's live news updates in field of politics\n",
      "   Source: https://www.ndtv.com/\n",
      "\n",
      "2. **Google News India**\n",
      "   'Mayday call, then altitude loss in seconds': What govt said on Air India crash | Latest News India - Hindustan Times ... internet abuzz. 6 hours ago. More.\n",
      "   Source: https://news.google.com/home?hl=en-IN&gl=IN&ceid=IN%3Aen\n",
      "\n",
      "3. **Latest News Today: Breaking News and Top Headlines from India ...**\n",
      "   #### [‘Unable to find a direct flight, London-based family opted for Air India flight from Ahmedabad’](https://indianexpress.com/article/cities/mumbai/ahmedabad-plane-crash-air-india-flight-london-based-family-10067079/)\n",
      "\n",
      "#### [Day after Mahim fire, fire brigade asks BMC to inspect the total number ...\n",
      "   Source: https://indianexpress.com/\n",
      "\n",
      "\n"
     ]
    }
   ],
   "source": [
    "state = {\"messages\":[\"Give me latest news of India on internet \"]}\n",
    "result = app.invoke(state)\n",
    "print(result[\"messages\"][-1])  # Should now have substantial content"
   ]
  },
  {
   "cell_type": "code",
   "execution_count": null,
   "metadata": {},
   "outputs": [],
   "source": []
  }
 ],
 "metadata": {
  "kernelspec": {
   "display_name": "Python 3",
   "language": "python",
   "name": "python3"
  },
  "language_info": {
   "codemirror_mode": {
    "name": "ipython",
    "version": 3
   },
   "file_extension": ".py",
   "mimetype": "text/x-python",
   "name": "python",
   "nbconvert_exporter": "python",
   "pygments_lexer": "ipython3",
   "version": "3.13.0"
  }
 },
 "nbformat": 4,
 "nbformat_minor": 2
}
